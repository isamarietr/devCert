{
 "cells": [
  {
   "cell_type": "markdown",
   "metadata": {},
   "source": [
    "<If there are any questions, reach out via isa.torres@mongodb.com>\n",
    "\n",
    "[Find Me on LinkedIn!](https://www.linkedin.com/in/isatorres/)\n",
    "\n",
    "# Welcome To Session 1\n",
    "## Intro\n",
    "\n",
    "Jupyter is an interactive \"notebook\" environment where we can combine code, text, pictures, etc.\n",
    "\n",
    "It is based on a modified form of python. In order to give users a \"mongo shell experience,\" at the beginning of every notebook I will ask for you to put your variables in as python variables, and access them using shell scripts using the !mongosh command line (which is the official mongo shell).\n",
    "\n",
    "For this first session, don't worry too much about the commands I am passing to the server, we will be focusing on queries soon.\n"
   ]
  },
  {
   "cell_type": "markdown",
   "metadata": {},
   "source": [
    "## MongoDB Architecture & Atlas\n",
    "For the sake of getting MongoDB certified, MongoDB Architecture is not a major focus, but it helps to have a basic understanding. Also, it's hard to develop anything on MongoDB if you don't have a database to use\n",
    "\n",
    "Luckily, there is an easy way to get access to a MongoDB database for free. That is by creating a free tier cluster in our managed service called Atlas. We will discuss logging in and creating an organization and project in the session, but generally it can be found at [here](https://cloud.mongodb.com) Once a cluster is created, whitelist the source IP address (either this host or your local host), create a database user, and you are ready to use MongoDB.\n",
    "\n",
    "Atlas also has some sample data sets that we will use in these sessions, so please upload that data set. "
   ]
  },
  {
   "cell_type": "markdown",
   "metadata": {},
   "source": [
    "**REFER TO [THIS NOTEBOOK](./_setup.ipynb) FOR ENVIRONMENT SETUP INSTRUCTIONS**"
   ]
  },
  {
   "cell_type": "markdown",
   "metadata": {},
   "source": [
    "... OK! \n",
    "\n",
    "So, we have a cluster (in Atlas), a user (with read/write any database priviledges), a password, an IP whitelist, and sample data.\n",
    "\n",
    "Now, lets ensure that you have connectivity to the database by running the mongo shell equivalent of \"Hello World,\" db.hello().\n",
    "\n",
    "In the cell below, enter your username and password that you created to authenticate against the database, and replace the connection string variable with the shell connection string from your Atlas UI. In order to find that connection string, find the cluster in your Atlas project UI, click \"Connect\" on it, choose \"Shell\" as connection method.\n",
    "\n",
    "**If you change these variables, make sure to RUN THE CELL or they won't be reassigned**\n"
   ]
  },
  {
   "cell_type": "code",
   "execution_count": 2,
   "metadata": {},
   "outputs": [],
   "source": [
    "# Variables\n",
    "mongoDB_username = \"\"\n",
    "mongoDB_password = \"\"\n",
    "mongoDB_connection_string = \"\""
   ]
  },
  {
   "cell_type": "markdown",
   "metadata": {},
   "source": [
    "## Mongosh\n",
    "\n",
    "Mongosh is the official mongo shell. Knowing how to install it and the connection flags is not a major focus of the developer certification. However, for a **vast majority** of the questions on the developer exam, the exam will use mongo shell format. So understanding the shell at a high level is crucial for doing well on the certification test. Luckily, the shell is very similar to any langauge specific implementation of MongoDB. My suggestion as you learn is to start in the mongo shell, then learn language specific topics, such as connecting to the database and iterating through a cursor.\n",
    "\n",
    "In the above example, we use the `--eval` flag to pass in a shell command (in this case it was `db.hello()`). The mongo shell is a javascript interpreter, so many shell commands look like javascript. In the shell, the `db` object represents the current database context. Because we didn't specify the database in the connection string, it uses the default, `test`.\n",
    "\n",
    "`db.hello()` returns basic information about the mongoDB cluster. If you are connecting to a replica set, note that there are multiple hosts in the `hosts` array. This shows that MongoDB is replicating your data, but this won't come up on the developer exam.\n",
    "\n",
    "MongoDB also offers a free GUI for the MongoDB database called [Compass](https://www.mongodb.com/products/compass). It is free to download and use. It also has an embedded Mongosh\n",
    "\n",
    "**If possible I recommend downloading and installing the mongo shell or MongoDB Compass for the sake of this class. If that is is not possible, you can use the notebooks with mongosh from this host**\n",
    "\n"
   ]
  },
  {
   "cell_type": "markdown",
   "metadata": {},
   "source": [
    "## The Document Model\n",
    "\n",
    "We have deployed a MongoDB database, and figured out how to access it (shell or compass). Now, lets become MongoDB Developers!!\n",
    "\n",
    "The first thing that comes to mind for most people when they think MongoDB is the document model. It's of the most important features of MongoDB. Knowing about the document model is very important for getting certified as a MongoDB Developer.\n",
    "\n",
    "Lets Look at a document. For those interested in the query, first we change our context to the database `sample_mflix` by entering `use sample_mflix` then we return a single document (record) from the `movies` collection (collection = MongoDB's version of a table) by entering `db.movies.findOne()` "
   ]
  },
  {
   "cell_type": "code",
   "execution_count": 3,
   "metadata": {},
   "outputs": [
    {
     "name": "stdout",
     "output_type": "stream",
     "text": [
      "\u001b]0;mongosh mongodb+srv://<credentials>@devcert.0epnrpd.mongodb.net/\u0007\u001b[1G\u001b[0J \u001b[1G{\n",
      "  topologyVersion: {\n",
      "    processId: ObjectId(\u001b[32m'66102fc6403719b361197586'\u001b[39m),\n",
      "    counter: Long(\u001b[32m'6'\u001b[39m)\n",
      "  },\n",
      "  hosts: [\n",
      "    \u001b[32m'ac-lti9mog-shard-00-00.0epnrpd.mongodb.net:27017'\u001b[39m,\n",
      "    \u001b[32m'ac-lti9mog-shard-00-01.0epnrpd.mongodb.net:27017'\u001b[39m,\n",
      "    \u001b[32m'ac-lti9mog-shard-00-02.0epnrpd.mongodb.net:27017'\u001b[39m\n",
      "  ],\n",
      "  setName: \u001b[32m'atlas-13lnan-shard-0'\u001b[39m,\n",
      "  setVersion: \u001b[33m13\u001b[39m,\n",
      "  isWritablePrimary: \u001b[33mtrue\u001b[39m,\n",
      "  secondary: \u001b[33mfalse\u001b[39m,\n",
      "  primary: \u001b[32m'ac-lti9mog-shard-00-02.0epnrpd.mongodb.net:27017'\u001b[39m,\n",
      "  tags: {\n",
      "    availabilityZone: \u001b[32m'use1-az6'\u001b[39m,\n",
      "    provider: \u001b[32m'AWS'\u001b[39m,\n",
      "    region: \u001b[32m'US_EAST_1'\u001b[39m,\n",
      "    nodeType: \u001b[32m'ELECTABLE'\u001b[39m,\n",
      "    diskState: \u001b[32m'READY'\u001b[39m,\n",
      "    workloadType: \u001b[32m'OPERATIONAL'\u001b[39m\n",
      "  },\n",
      "  me: \u001b[32m'ac-lti9mog-shard-00-02.0epnrpd.mongodb.net:27017'\u001b[39m,\n",
      "  electionId: ObjectId(\u001b[32m'7fffffff00000000000001de'\u001b[39m),\n",
      "  lastWrite: {\n",
      "    opTime: { ts: Timestamp({ t: \u001b[33m1712774336\u001b[39m, i: \u001b[33m24\u001b[39m }), t: Long(\u001b[32m'478'\u001b[39m) },\n",
      "    lastWriteDate: ISODate('2024-04-10T18:38:56.000Z'),\n",
      "    majorityOpTime: { ts: Timestamp({ t: \u001b[33m1712774336\u001b[39m, i: \u001b[33m24\u001b[39m }), t: Long(\u001b[32m'478'\u001b[39m) },\n",
      "    majorityWriteDate: ISODate('2024-04-10T18:38:56.000Z')\n",
      "  },\n",
      "  maxBsonObjectSize: \u001b[33m16777216\u001b[39m,\n",
      "  maxMessageSizeBytes: \u001b[33m48000000\u001b[39m,\n",
      "  maxWriteBatchSize: \u001b[33m100000\u001b[39m,\n",
      "  localTime: ISODate('2024-04-10T18:38:56.435Z'),\n",
      "  logicalSessionTimeoutMinutes: \u001b[33m30\u001b[39m,\n",
      "  connectionId: \u001b[33m416958\u001b[39m,\n",
      "  minWireVersion: \u001b[33m0\u001b[39m,\n",
      "  maxWireVersion: \u001b[33m21\u001b[39m,\n",
      "  readOnly: \u001b[33mfalse\u001b[39m,\n",
      "  ok: \u001b[33m1\u001b[39m,\n",
      "  \u001b[32m'$clusterTime'\u001b[39m: {\n",
      "    clusterTime: Timestamp({ t: \u001b[33m1712774336\u001b[39m, i: \u001b[33m24\u001b[39m }),\n",
      "    signature: {\n",
      "      hash: Binary.createFromBase64(\u001b[32m'K81exlRG/R/HqnRIqZullwPe9go='\u001b[39m, \u001b[33m0\u001b[39m),\n",
      "      keyId: Long(\u001b[32m'7297225448235204610'\u001b[39m)\n",
      "    }\n",
      "  },\n",
      "  operationTime: Timestamp({ t: \u001b[33m1712774336\u001b[39m, i: \u001b[33m24\u001b[39m })\n",
      "}\n"
     ]
    }
   ],
   "source": [
    "!mongosh {mongoDB_connection_string} --quiet  --username {mongoDB_username} -p {mongoDB_password} \\\n",
    "--eval \"db.hello()\" "
   ]
  },
  {
   "cell_type": "code",
   "execution_count": 4,
   "metadata": {},
   "outputs": [
    {
     "name": "stdout",
     "output_type": "stream",
     "text": [
      "\u001b]0;mongosh mongodb+srv://<credentials>@devcert.0epnrpd.mongodb.net/\u0007\u001b[1G\u001b[0J \u001b[1G{\n",
      "  _id: ObjectId(\u001b[32m'573a1390f29313caabcd42e8'\u001b[39m),\n",
      "  plot: \u001b[32m'A group of bandits stage a brazen train hold-up, only to find a determined posse hot on their heels.'\u001b[39m,\n",
      "  genres: [ \u001b[32m'Short'\u001b[39m, \u001b[32m'Western'\u001b[39m ],\n",
      "  runtime: \u001b[33m11\u001b[39m,\n",
      "  cast: [\n",
      "    \u001b[32m'A.C. Abadie'\u001b[39m,\n",
      "    \u001b[32m\"Gilbert M. 'Broncho Billy' Anderson\"\u001b[39m,\n",
      "    \u001b[32m'George Barnes'\u001b[39m,\n",
      "    \u001b[32m'Justus D. Barnes'\u001b[39m\n",
      "  ],\n",
      "  poster: \u001b[32m'https://m.media-amazon.com/images/M/MV5BMTU3NjE5NzYtYTYyNS00MDVmLWIwYjgtMmYwYWIxZDYyNzU2XkEyXkFqcGdeQXVyNzQzNzQxNzI@._V1_SY1000_SX677_AL_.jpg'\u001b[39m,\n",
      "  title: \u001b[32m'The Great Train Robbery'\u001b[39m,\n",
      "  fullplot: \u001b[32m\"Among the earliest existing films in American cinema - notable as the first film that presented a narrative story to tell - it depicts a group of cowboy outlaws who hold up a train and rob the passengers. They are then pursued by a Sheriff's posse. Several scenes have color included - all hand tinted.\"\u001b[39m,\n",
      "  languages: [ \u001b[32m'English'\u001b[39m ],\n",
      "  released: ISODate('1903-12-01T00:00:00.000Z'),\n",
      "  directors: [ \u001b[32m'Edwin S. Porter'\u001b[39m ],\n",
      "  rated: \u001b[32m'TV-G'\u001b[39m,\n",
      "  awards: { wins: \u001b[33m1\u001b[39m, nominations: \u001b[33m0\u001b[39m, text: \u001b[32m'1 win.'\u001b[39m },\n",
      "  lastupdated: \u001b[32m'2015-08-13 00:27:59.177000000'\u001b[39m,\n",
      "  year: \u001b[33m1903\u001b[39m,\n",
      "  imdb: { rating: \u001b[33m7.4\u001b[39m, votes: \u001b[33m9847\u001b[39m, id: \u001b[33m439\u001b[39m },\n",
      "  countries: [ \u001b[32m'USA'\u001b[39m ],\n",
      "  type: \u001b[32m'movie'\u001b[39m,\n",
      "  tomatoes: {\n",
      "    viewer: { rating: \u001b[33m3.7\u001b[39m, numReviews: \u001b[33m2559\u001b[39m, meter: \u001b[33m75\u001b[39m },\n",
      "    fresh: \u001b[33m6\u001b[39m,\n",
      "    critic: { rating: \u001b[33m7.6\u001b[39m, numReviews: \u001b[33m6\u001b[39m, meter: \u001b[33m100\u001b[39m },\n",
      "    rotten: \u001b[33m0\u001b[39m,\n",
      "    lastUpdated: ISODate('2015-08-08T19:16:10.000Z')\n",
      "  },\n",
      "  num_mflix_comments: \u001b[33m0\u001b[39m\n",
      "}\n"
     ]
    }
   ],
   "source": [
    "!mongosh {mongoDB_connection_string} --quiet  --username {mongoDB_username} -p {mongoDB_password} \\\n",
    "--eval \"use sample_mflix\" \\\n",
    "--eval \"db.movies.findOne()\""
   ]
  },
  {
   "cell_type": "markdown",
   "metadata": {},
   "source": [
    "- Documents are comprised of key:value pairs (we sometimes call this \"self describing\") NOT rows and columns\n",
    "- A value might be a scalar value (like year:1903) or a data structure (like awards, which is a sub document)\n",
    "- There is no limit to how far you can nest data in a document, however a single document cannot exceed 16MB\n",
    "- Look at the \"released\" field. That is an ISODate() data type. \n",
    "- MongoDB does NOT store JSON data!! MongoDB stores BSON data, which means it can enforce typing\n",
    "- **acceptable BSON types will appear on the MongoDB Certification exam, so you should memorize** [List Here](https://www.mongodb.com/docs/manual/reference/bson-types/)\n",
    "- Documents are polymorphic - not all documents need to have all the same fields\n",
    "- All documents must have a _id.\n",
    "- The _id will be auto generated if not included in the write (ObjectID Bson type)\n"
   ]
  },
  {
   "cell_type": "markdown",
   "metadata": {},
   "source": [
    "## Intro to CRUD - Inserts\n",
    "\n",
    "It makes sense to start with inserts because it doesn't involve a filter. MongoDB has a vast array of filtering capabilities that are meant for JSON-shaped data, and that will be the focus for future sessions. !mongosh has 2 main ways to insert documents into a collection:\n",
    "\n",
    "- `db.<collection>.insertOne({key:value},{options})` Insert, which takes as an argument a single document to insert\n",
    "- `db.<collection>.insertMany([{k:v},{k:v}],{options})` InsertMany, which accepts an array of documents\n",
    "\n",
    "The `{options}` object allow users to configure the nature of inserts. The main option to consider is with `insertMany` - it is ordering. If `{ordered:true}`, a failed insert will stop the operation.\n",
    "\n",
    "Let's look at some inserts:"
   ]
  },
  {
   "cell_type": "code",
   "execution_count": 5,
   "metadata": {},
   "outputs": [
    {
     "name": "stdout",
     "output_type": "stream",
     "text": [
      "\u001b]0;mongosh mongodb+srv://<credentials>@devcert.0epnrpd.mongodb.net/\u0007\u001b[1G\u001b[0J \u001b[1G{\n",
      "  acknowledged: \u001b[33mtrue\u001b[39m,\n",
      "  insertedId: ObjectId(\u001b[32m'6616dcc8739ff495e67c0568'\u001b[39m)\n",
      "}\n"
     ]
    }
   ],
   "source": [
    "insertString = \"db.testCollection.insertOne({a:1})\"\n",
    "\n",
    "!mongosh {mongoDB_connection_string} --quiet  --username {mongoDB_username} -p {mongoDB_password} \\\n",
    "--eval \"use testDb\" \\\n",
    "--eval \"{insertString}\""
   ]
  },
  {
   "cell_type": "code",
   "execution_count": 6,
   "metadata": {},
   "outputs": [
    {
     "name": "stdout",
     "output_type": "stream",
     "text": [
      "\u001b]0;mongosh mongodb+srv://<credentials>@devcert.0epnrpd.mongodb.net/\u0007\u001b[1G\u001b[0J \u001b[1G{\n",
      "  acknowledged: \u001b[33mtrue\u001b[39m,\n",
      "  insertedId: ObjectId(\u001b[32m'6616dcce040fb095c602c2e1'\u001b[39m)\n",
      "}\n"
     ]
    }
   ],
   "source": [
    "insertString = \"db.testCollection.insertOne({a:ISODate('2020-12-30')})\"\n",
    "\n",
    "!mongosh {mongoDB_connection_string} --quiet  --username {mongoDB_username} -p {mongoDB_password} \\\n",
    "--eval \"use testDb\" \\\n",
    "--eval \"{insertString}\""
   ]
  },
  {
   "cell_type": "code",
   "execution_count": 7,
   "metadata": {},
   "outputs": [
    {
     "name": "stdout",
     "output_type": "stream",
     "text": [
      "\u001b]0;mongosh mongodb+srv://<credentials>@devcert.0epnrpd.mongodb.net/\u0007\u001b[1G\u001b[0J \u001b[1G{\n",
      "  acknowledged: \u001b[33mtrue\u001b[39m,\n",
      "  insertedIds: {\n",
      "    \u001b[32m'0'\u001b[39m: ObjectId(\u001b[32m'6616dcd1efd245f97dc682a6'\u001b[39m),\n",
      "    \u001b[32m'1'\u001b[39m: ObjectId(\u001b[32m'6616dcd1efd245f97dc682a7'\u001b[39m),\n",
      "    \u001b[32m'2'\u001b[39m: ObjectId(\u001b[32m'6616dcd1efd245f97dc682a8'\u001b[39m)\n",
      "  }\n",
      "}\n"
     ]
    }
   ],
   "source": [
    "insertString = \"db.testCollection.insertMany([{a:2},{a:3},{a:4}])\"\n",
    "\n",
    "!mongosh {mongoDB_connection_string} --quiet  --username {mongoDB_username} -p {mongoDB_password} \\\n",
    "--eval \"use testDb\" \\\n",
    "--eval \"{insertString}\""
   ]
  },
  {
   "cell_type": "code",
   "execution_count": null,
   "metadata": {},
   "outputs": [],
   "source": []
  }
 ],
 "metadata": {
  "kernelspec": {
   "display_name": "Python 3 (ipykernel)",
   "language": "python",
   "name": "python3"
  },
  "language_info": {
   "codemirror_mode": {
    "name": "ipython",
    "version": 3
   },
   "file_extension": ".py",
   "mimetype": "text/x-python",
   "name": "python",
   "nbconvert_exporter": "python",
   "pygments_lexer": "ipython3",
   "version": "3.12.2"
  }
 },
 "nbformat": 4,
 "nbformat_minor": 4
}
