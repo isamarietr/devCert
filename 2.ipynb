{
 "cells": [
  {
   "cell_type": "markdown",
   "metadata": {},
   "source": [
    "<If there are any questions, reach out via isa.torres@mongodb.com>\n",
    "\n",
    "[Find Me on LinkedIn!](https://www.linkedin.com/in/isatorres/)\n",
    "\n",
    "# Welcome to Session 2\n",
    "## MQL\n",
    "\n",
    "We've already met MQL, we just didn't call it by that name. *MQL* is short for \"MongoDB Query Language,\" and is the standard way to interface against the MongoDB database.\n",
    "\n",
    "In a certification test, rarely will the term MQL be used. The questions are usually asked \"What is the proper syntax to query using X field?\" and the options are various types of MQL. The term \"MQL\" is an umbrella term that references a standard query syntax across the mongo shell (mongosh), drivers, the Compass GUI, etc.\n",
    "\n",
    "Last session we finished with using MQL to insert() documents. Now, let's actually read some of the data!\n",
    "\n",
    "## Reads\n",
    "\n",
    "Generally, to perform a read using MQL, the syntax is as follows:\n",
    "\n",
    "`db.findOne({filter},{projection})` <-- this returns a document\n",
    "\n",
    "`db.find({filter},{projection})` <-- this returns multiple documents... or really a *cursor* \n",
    "\n",
    "A cursor is a pointer to the results of a query in memory. The client then iterates through the cursor. Its important to note that the shell automatically iterates through the first 20 documents in a cursor.\n",
    "\n",
    "There is a shell helper function, `.toArray()` which will take the all of documents in the cursor and creat an array out of them.\n",
    "\n",
    "So what is that `{filter}` thing? Well, that's going to take up most of this session. Generally, it is a BSON object that represents the inputs to your query. By default, the MongoDB Server returns all fields of a document. For the RDBMS people out there, it is like doing a SQL `SELECT *`. The `{projection}` object is a way to determine which fields are returned by a query. Let's take a look at some examples:"
   ]
  },
  {
   "cell_type": "code",
   "execution_count": 1,
   "metadata": {},
   "outputs": [],
   "source": [
    "# First Let's connect to the DB\n",
    "# Variables\n",
    "mongoDB_username = \"\"\n",
    "mongoDB_password = \"\"\n",
    "mongoDB_connection_string = \"\""
   ]
  },
  {
   "cell_type": "code",
   "execution_count": 2,
   "metadata": {},
   "outputs": [
    {
     "name": "stdout",
     "output_type": "stream",
     "text": [
      "\u001b]0;mongosh mongodb+srv://<credentials>@devcert.0epnrpd.mongodb.net/\u0007\u001b[1G\u001b[0J \u001b[1G[\n",
      "  {\n",
      "    _id: ObjectId(\u001b[32m'573a1398f29313caabcead6a'\u001b[39m),\n",
      "    plot: \u001b[32m'A septuagenarian couple are attracted to each other in a retirement home but find the institution and their fellow patients frown on their relationship.'\u001b[39m,\n",
      "    genres: [ \u001b[32m'Drama'\u001b[39m, \u001b[32m'Romance'\u001b[39m ],\n",
      "    runtime: \u001b[33m110\u001b[39m,\n",
      "    cast: [\n",
      "      \u001b[32m'Ingrid Thulin'\u001b[39m,\n",
      "      \u001b[32m'Dado Ruspoli'\u001b[39m,\n",
      "      \u001b[32m'Enzo Cannavale'\u001b[39m,\n",
      "      \u001b[32m'Nuccia Fumo'\u001b[39m\n",
      "    ],\n",
      "    title: \u001b[32m'The House of Smiles'\u001b[39m,\n",
      "    fullplot: \u001b[32m'Adelina, a former \"Miss Smiles\" beauty queen, is a resident at a senior citizen retirement home. Her joie de vie and unfaded beauty make her attractive to the male residents, especially Andrea, a dapper and charming but married septuagenarian. Their initial mutual attraction evolves into physical desire, but their families and the conservative culture of the institution conspire against their consummating their love.'\u001b[39m,\n",
      "    languages: [ \u001b[32m'Italian'\u001b[39m, \u001b[32m'French'\u001b[39m ],\n",
      "    released: ISODate('1991-03-01T00:00:00.000Z'),\n",
      "    directors: [ \u001b[32m'Marco Ferreri'\u001b[39m ],\n",
      "    writers: [ \u001b[32m'Liliane Betti'\u001b[39m, \u001b[32m'Marco Ferreri'\u001b[39m, \u001b[32m'Antonino Marino'\u001b[39m ],\n",
      "    awards: { wins: \u001b[33m1\u001b[39m, nominations: \u001b[33m7\u001b[39m, text: \u001b[32m'1 win & 7 nominations.'\u001b[39m },\n",
      "    lastupdated: \u001b[32m'2015-08-13 00:06:59.537000000'\u001b[39m,\n",
      "    year: \u001b[33m1991\u001b[39m,\n",
      "    imdb: { rating: \u001b[33m6.6\u001b[39m, votes: \u001b[33m133\u001b[39m, id: \u001b[33m94841\u001b[39m },\n",
      "    countries: [ \u001b[32m'Italy'\u001b[39m ],\n",
      "    type: \u001b[32m'movie'\u001b[39m,\n",
      "    tomatoes: {\n",
      "      viewer: { rating: \u001b[33m3\u001b[39m, numReviews: \u001b[33m55\u001b[39m, meter: \u001b[33m75\u001b[39m },\n",
      "      dvd: ISODate('2008-08-19T00:00:00.000Z'),\n",
      "      lastUpdated: ISODate('2015-05-26T18:10:45.000Z')\n",
      "    },\n",
      "    num_mflix_comments: \u001b[33m0\u001b[39m\n",
      "  },\n",
      "  {\n",
      "    _id: ObjectId(\u001b[32m'573a1398f29313caabcebadc'\u001b[39m),\n",
      "    plot: \u001b[32m'Tromatic Super Heroine Susan Morris has to learn to fend for herself when she decides to escape from the urban jungle. While looking for a charming house in the country, she falls into the ...'\u001b[39m,\n",
      "    genres: [ \u001b[32m'Action'\u001b[39m, \u001b[32m'Comedy'\u001b[39m ],\n",
      "    runtime: \u001b[33m81\u001b[39m,\n",
      "    cast: [\n",
      "      \u001b[32m'Debra Sweaney'\u001b[39m,\n",
      "      \u001b[32m'Brian Oldfield'\u001b[39m,\n",
      "      \u001b[32m'Sean P. Donahue'\u001b[39m,\n",
      "      \u001b[32m'Mike Donahue'\u001b[39m\n",
      "    ],\n",
      "    title: \u001b[32m'They Call Me Macho Woman!'\u001b[39m,\n",
      "    fullplot: \u001b[32m'Tromatic Super Heroine Susan Morris has to learn to fend for herself when she decides to escape from the urban jungle. While looking for a charming house in the country, she falls into the clutches of a band of brawny brutes - Mongo and his crew of corporate cretins. A once sweet working girl from the city, Susan is pushed to her limits and becomes a fearsome female warrior. She escapes imprisonment from the gang and, craving revenge, metamorphosizes into a heroic woodland creature. Armed with instruments of steel and skills derived from primitive survival instincts, she repels the evil onslaught. Macho Woman has arrived!'\u001b[39m,\n",
      "    languages: [ \u001b[32m'English'\u001b[39m ],\n",
      "    released: ISODate('1991-02-01T00:00:00.000Z'),\n",
      "    directors: [ \u001b[32m'Patrick G. Donahue'\u001b[39m ],\n",
      "    writers: [ \u001b[32m'Patrick G. Donahue'\u001b[39m ],\n",
      "    awards: { wins: \u001b[33m0\u001b[39m, nominations: \u001b[33m1\u001b[39m, text: \u001b[32m'1 nomination.'\u001b[39m },\n",
      "    lastupdated: \u001b[32m'2015-05-22 10:56:01.243000000'\u001b[39m,\n",
      "    year: \u001b[33m1991\u001b[39m,\n",
      "    imdb: { rating: \u001b[33m4.1\u001b[39m, votes: \u001b[33m100\u001b[39m, id: \u001b[33m98467\u001b[39m },\n",
      "    countries: [ \u001b[32m'USA'\u001b[39m ],\n",
      "    type: \u001b[32m'movie'\u001b[39m,\n",
      "    tomatoes: {\n",
      "      viewer: { rating: \u001b[33m2.5\u001b[39m, numReviews: \u001b[33m76\u001b[39m, meter: \u001b[33m20\u001b[39m },\n",
      "      dvd: ISODate('2005-12-06T00:00:00.000Z'),\n",
      "      lastUpdated: ISODate('2015-09-13T18:13:21.000Z')\n",
      "    },\n",
      "    num_mflix_comments: \u001b[33m0\u001b[39m\n",
      "  },\n",
      "  {\n",
      "    _id: ObjectId(\u001b[32m'573a1398f29313caabcebc97'\u001b[39m),\n",
      "    plot: \u001b[32m'A female police detective investigates a series of serial murders while dealing with sexist hostility from her male comrades.'\u001b[39m,\n",
      "    genres: [ \u001b[32m'Crime'\u001b[39m, \u001b[32m'Drama'\u001b[39m, \u001b[32m'Mystery'\u001b[39m ],\n",
      "    runtime: \u001b[33m207\u001b[39m,\n",
      "    cast: [ \u001b[32m'Helen Mirren'\u001b[39m, \u001b[32m'Tom Bell'\u001b[39m, \u001b[32m'John Benfield'\u001b[39m, \u001b[32m'Jack Ellis'\u001b[39m ],\n",
      "    num_mflix_comments: \u001b[33m1\u001b[39m,\n",
      "    poster: \u001b[32m'https://m.media-amazon.com/images/M/MV5BMTIzNDI3NzAxM15BMl5BanBnXkFtZTcwNzM0NzQyMQ@@._V1_SY1000_SX677_AL_.jpg'\u001b[39m,\n",
      "    title: \u001b[32m'Prime Suspect'\u001b[39m,\n",
      "    fullplot: \u001b[32m\"DCI Jane Tennison has been passed over time and again to lead a murder investigation, so when one of her fellow DCIs has a heart attack just before he's ready to charge their prime suspect, Jane sees her chance to lead a murder investigation. But the murder squad she takes over is hostile to her, the men upstairs are eager to pull the plug on her investigation, her personal relationships suffer from her obsession with work, and the prime suspect remains elusive. Jane has her work cut out for her as she and her team work their way through computer data trails, legwork, intuitive leaps, chases, arrests, and confessions to find the killer.\"\u001b[39m,\n",
      "    languages: [ \u001b[32m'English'\u001b[39m ],\n",
      "    released: ISODate('1992-01-23T00:00:00.000Z'),\n",
      "    awards: { wins: \u001b[33m12\u001b[39m, nominations: \u001b[33m6\u001b[39m, text: \u001b[32m'12 wins & 6 nominations.'\u001b[39m },\n",
      "    lastupdated: \u001b[32m'2015-08-22 01:11:08.593000000'\u001b[39m,\n",
      "    year: \u001b[33m1991\u001b[39m,\n",
      "    imdb: { rating: \u001b[33m8.5\u001b[39m, votes: \u001b[33m3773\u001b[39m, id: \u001b[33m98898\u001b[39m },\n",
      "    countries: [ \u001b[32m'UK'\u001b[39m ],\n",
      "    type: \u001b[32m'series'\u001b[39m,\n",
      "    tomatoes: {\n",
      "      viewer: { rating: \u001b[33m3.6\u001b[39m, numReviews: \u001b[33m103\u001b[39m, meter: \u001b[33m78\u001b[39m },\n",
      "      dvd: ISODate('2010-01-25T00:00:00.000Z'),\n",
      "      lastUpdated: ISODate('2015-09-13T17:00:53.000Z')\n",
      "    }\n",
      "  },\n",
      "  {\n",
      "    _id: ObjectId(\u001b[32m'573a1398f29313caabcebdf2'\u001b[39m),\n",
      "    plot: \u001b[32m'Over more than thirty years, a department of the Condesa in Mexico City, is the setting in which they are carried out ten stories, mixed, form one whose only constant is the rupture. The ...'\u001b[39m,\n",
      "    genres: [ \u001b[32m'Drama'\u001b[39m ],\n",
      "    runtime: \u001b[33m87\u001b[39m,\n",
      "    cast: [\n",
      "      \u001b[32m'Gabriela Roel'\u001b[39m,\n",
      "      \u001b[32m'Arcelia Ramèrez'\u001b[39m,\n",
      "      \u001b[32m'Verènica Merchant'\u001b[39m,\n",
      "      \u001b[32m'Roberto Sosa'\u001b[39m\n",
      "    ],\n",
      "    num_mflix_comments: \u001b[33m0\u001b[39m,\n",
      "    title: \u001b[32m'City of the Blind'\u001b[39m,\n",
      "    fullplot: \u001b[32m'Over more than thirty years, a department of the Condesa in Mexico City, is the setting in which they are carried out ten stories, mixed, form one whose only constant is the rupture. The passage of time and the outside world only guess through the windows and objects that come with the characters. The set is a great solitude, possible in a city of the blind.'\u001b[39m,\n",
      "    languages: [ \u001b[32m'Spanish'\u001b[39m ],\n",
      "    released: ISODate('1991-10-31T00:00:00.000Z'),\n",
      "    directors: [ \u001b[32m'Alberto Cortès'\u001b[39m ],\n",
      "    writers: [\n",
      "      \u001b[32m'Josè Agustèn'\u001b[39m,\n",
      "      \u001b[32m'Hernann Bellinghaussen'\u001b[39m,\n",
      "      \u001b[32m'Alberto Cortès'\u001b[39m,\n",
      "      \u001b[32m'Marcela Fuentes-Berain'\u001b[39m,\n",
      "      \u001b[32m'Paz Alicia Garciadiego'\u001b[39m,\n",
      "      \u001b[32m'Silvia Tomasa Rivera'\u001b[39m\n",
      "    ],\n",
      "    awards: { wins: \u001b[33m3\u001b[39m, nominations: \u001b[33m2\u001b[39m, text: \u001b[32m'3 wins & 2 nominations.'\u001b[39m },\n",
      "    lastupdated: \u001b[32m'2015-06-04 00:55:24.303000000'\u001b[39m,\n",
      "    year: \u001b[33m1991\u001b[39m,\n",
      "    imdb: { rating: \u001b[33m6.6\u001b[39m, votes: \u001b[33m75\u001b[39m, id: \u001b[33m99274\u001b[39m },\n",
      "    countries: [ \u001b[32m'Mexico'\u001b[39m ],\n",
      "    type: \u001b[32m'movie'\u001b[39m,\n",
      "    tomatoes: {\n",
      "      viewer: { rating: \u001b[33m3\u001b[39m, numReviews: \u001b[33m27\u001b[39m, meter: \u001b[33m50\u001b[39m },\n",
      "      dvd: ISODate('2008-05-20T00:00:00.000Z'),\n",
      "      lastUpdated: ISODate('2015-07-02T19:14:26.000Z')\n",
      "    }\n",
      "  },\n",
      "  {\n",
      "    _id: ObjectId(\u001b[32m'573a1398f29313caabcebf0b'\u001b[39m),\n",
      "    plot: \u001b[32m'Agent Jackie is hired to find WWII Nazi gold hidden in the Sahara desert. He teams up with three bundling women (the 3 stooges?) who are all connected in some way. However a team of ...'\u001b[39m,\n",
      "    genres: [ \u001b[32m'Action'\u001b[39m, \u001b[32m'Adventure'\u001b[39m, \u001b[32m'Comedy'\u001b[39m ],\n",
      "    runtime: \u001b[33m80\u001b[39m,\n",
      "    rated: \u001b[32m'PG-13'\u001b[39m,\n",
      "    cast: [ \u001b[32m'Jackie Chan'\u001b[39m, \u001b[32m\"Carol 'Do Do' Cheng\"\u001b[39m, \u001b[32m'Eva Cobo'\u001b[39m, \u001b[32m'Shèko Ikeda'\u001b[39m ],\n",
      "    poster: \u001b[32m'https://m.media-amazon.com/images/M/MV5BNjEyMTk4ZDgtNjUyZi00OTg0LWFkMWEtNjk0ZWE5N2QwMmZmXkEyXkFqcGdeQXVyNjU5MjcxOTg@._V1_SY1000_SX677_AL_.jpg'\u001b[39m,\n",
      "    title: \u001b[32m'Armour of God 2: Operation Condor'\u001b[39m,\n",
      "    fullplot: \u001b[32m'Agent Jackie is hired to find WWII Nazi gold hidden in the Sahara desert. He teams up with three bundling women (the 3 stooges?) who are all connected in some way. However a team of mercenries have ideas on the ownership of the gold. A battle / chase ensues as to who gets there first. Lots of choregraphed Kung-Fu and quirky Chan humour.'\u001b[39m,\n",
      "    languages: [ \u001b[32m'Cantonese'\u001b[39m ],\n",
      "    released: ISODate('1997-07-18T00:00:00.000Z'),\n",
      "    directors: [ \u001b[32m'Jackie Chan'\u001b[39m ],\n",
      "    writers: [ \u001b[32m'Jackie Chan'\u001b[39m, \u001b[32m'Edward Tang'\u001b[39m ],\n",
      "    awards: { wins: \u001b[33m0\u001b[39m, nominations: \u001b[33m1\u001b[39m, text: \u001b[32m'1 nomination.'\u001b[39m },\n",
      "    lastupdated: \u001b[32m'2015-09-02 00:24:33.507000000'\u001b[39m,\n",
      "    year: \u001b[33m1991\u001b[39m,\n",
      "    imdb: { rating: \u001b[33m7.2\u001b[39m, votes: \u001b[33m12598\u001b[39m, id: \u001b[33m99558\u001b[39m },\n",
      "    countries: [ \u001b[32m'Hong Kong'\u001b[39m ],\n",
      "    type: \u001b[32m'movie'\u001b[39m,\n",
      "    tomatoes: {\n",
      "      viewer: { rating: \u001b[33m3.2\u001b[39m, numReviews: \u001b[33m17448\u001b[39m, meter: \u001b[33m66\u001b[39m },\n",
      "      dvd: ISODate('1999-09-14T00:00:00.000Z'),\n",
      "      critic: { rating: \u001b[33m6.4\u001b[39m, numReviews: \u001b[33m33\u001b[39m, meter: \u001b[33m70\u001b[39m },\n",
      "      lastUpdated: ISODate('2015-08-25T18:56:21.000Z'),\n",
      "      rotten: \u001b[33m10\u001b[39m,\n",
      "      production: \u001b[32m'Miramax'\u001b[39m,\n",
      "      fresh: \u001b[33m23\u001b[39m\n",
      "    },\n",
      "    num_mflix_comments: \u001b[33m0\u001b[39m\n",
      "  },\n",
      "  {\n",
      "    _id: ObjectId(\u001b[32m'573a1399f29313caabcec20a'\u001b[39m),\n",
      "    plot: \u001b[32m'A shy young man with a passion for opera has his world turned upside down by a con artist who really does have a heart of gold.'\u001b[39m,\n",
      "    genres: [ \u001b[32m'Comedy'\u001b[39m ],\n",
      "    runtime: \u001b[33m107\u001b[39m,\n",
      "    rated: \u001b[32m'R'\u001b[39m,\n",
      "    cast: [\n",
      "      \u001b[32m'Robbie Coltrane'\u001b[39m,\n",
      "      \u001b[32m'Michael Riley'\u001b[39m,\n",
      "      \u001b[32m'Deborah Duchene'\u001b[39m,\n",
      "      \u001b[32m'Eugene Lipinski'\u001b[39m\n",
      "    ],\n",
      "    num_mflix_comments: \u001b[33m0\u001b[39m,\n",
      "    poster: \u001b[32m'https://m.media-amazon.com/images/M/MV5BZDU1YzBjNjQtNGNmNi00OTQ4LThiMDktMTlmN2Y2NDc0MjEyXkEyXkFqcGdeQXVyNzM0MDQ1Mw@@._V1_SY1000_SX677_AL_.jpg'\u001b[39m,\n",
      "    title: \u001b[32m'Perfectly Normal'\u001b[39m,\n",
      "    fullplot: \u001b[32m'A shy young man with a passion for opera has his world turned upside down by a con artist who really does have a heart of gold.'\u001b[39m,\n",
      "    languages: [ \u001b[32m'English'\u001b[39m ],\n",
      "    released: ISODate('1991-04-01T00:00:00.000Z'),\n",
      "    directors: [ \u001b[32m'Yves Simoneau'\u001b[39m ],\n",
      "    writers: [\n",
      "      \u001b[32m'Eugene Lipinski (screenplay)'\u001b[39m,\n",
      "      \u001b[32m'Eugene Lipinski (story)'\u001b[39m,\n",
      "      \u001b[32m'Paul Quarrington'\u001b[39m\n",
      "    ],\n",
      "    awards: { wins: \u001b[33m1\u001b[39m, nominations: \u001b[33m3\u001b[39m, text: \u001b[32m'1 win & 3 nominations.'\u001b[39m },\n",
      "    lastupdated: \u001b[32m'2015-04-24 00:19:25.690000000'\u001b[39m,\n",
      "    year: \u001b[33m1991\u001b[39m,\n",
      "    imdb: { rating: \u001b[33m6.4\u001b[39m, votes: \u001b[33m249\u001b[39m, id: \u001b[33m100347\u001b[39m },\n",
      "    countries: [ \u001b[32m'UK'\u001b[39m, \u001b[32m'Canada'\u001b[39m ],\n",
      "    type: \u001b[32m'movie'\u001b[39m,\n",
      "    tomatoes: {\n",
      "      viewer: { rating: \u001b[33m3.6\u001b[39m, numReviews: \u001b[33m72\u001b[39m, meter: \u001b[33m100\u001b[39m },\n",
      "      dvd: ISODate('1991-07-25T00:00:00.000Z'),\n",
      "      lastUpdated: ISODate('2015-07-02T19:29:22.000Z')\n",
      "    }\n",
      "  },\n",
      "  {\n",
      "    _id: ObjectId(\u001b[32m'573a1399f29313caabcec22b'\u001b[39m),\n",
      "    plot: \u001b[32m'It is the time of the Spanish Inquisition. Maria does not like what is going on during the \"Auto De Fe\". When she speaks out, she is arrested and accused of being a witch. Torquemada has ...'\u001b[39m,\n",
      "    genres: [ \u001b[32m'Horror'\u001b[39m ],\n",
      "    runtime: \u001b[33m97\u001b[39m,\n",
      "    rated: \u001b[32m'R'\u001b[39m,\n",
      "    cast: [\n",
      "      \u001b[32m'Lance Henriksen'\u001b[39m,\n",
      "      \u001b[32m'Stephen Lee'\u001b[39m,\n",
      "      \u001b[32m'William J. Norris'\u001b[39m,\n",
      "      \u001b[32m'Mark Margolis'\u001b[39m\n",
      "    ],\n",
      "    num_mflix_comments: \u001b[33m1\u001b[39m,\n",
      "    poster: \u001b[32m'https://m.media-amazon.com/images/M/MV5BMWZiMjM4YzktODNhMS00YTNjLWEzNmItMWI0MWUyZWRkMTI2XkEyXkFqcGdeQXVyMTQxNzMzNDI@._V1_SY1000_SX677_AL_.jpg'\u001b[39m,\n",
      "    title: \u001b[32m'The Pit and the Pendulum'\u001b[39m,\n",
      "    fullplot: \u001b[32m'It is the time of the Spanish Inquisition. Maria does not like what is going on during the \"Auto De Fe\". When she speaks out, she is arrested and accused of being a witch. Torquemada has plans for her! He orders her tortured, and her tongue to be cut out. Her husband attempts to free her...'\u001b[39m,\n",
      "    languages: [ \u001b[32m'English'\u001b[39m ],\n",
      "    released: ISODate('1991-06-27T00:00:00.000Z'),\n",
      "    directors: [ \u001b[32m'Stuart Gordon'\u001b[39m ],\n",
      "    writers: [ \u001b[32m'Edgar Allan Poe (story)'\u001b[39m, \u001b[32m'Dennis Paoli'\u001b[39m ],\n",
      "    awards: { wins: \u001b[33m1\u001b[39m, nominations: \u001b[33m3\u001b[39m, text: \u001b[32m'1 win & 3 nominations.'\u001b[39m },\n",
      "    lastupdated: \u001b[32m'2015-09-16 08:12:26.737000000'\u001b[39m,\n",
      "    year: \u001b[33m1991\u001b[39m,\n",
      "    imdb: { rating: \u001b[33m6.2\u001b[39m, votes: \u001b[33m2636\u001b[39m, id: \u001b[33m100369\u001b[39m },\n",
      "    countries: [ \u001b[32m'USA'\u001b[39m ],\n",
      "    type: \u001b[32m'movie'\u001b[39m,\n",
      "    tomatoes: {\n",
      "      viewer: { rating: \u001b[33m3\u001b[39m, numReviews: \u001b[33m2215\u001b[39m, meter: \u001b[33m40\u001b[39m },\n",
      "      dvd: ISODate('2000-03-14T00:00:00.000Z'),\n",
      "      critic: { rating: \u001b[33m6.1\u001b[39m, numReviews: \u001b[33m9\u001b[39m, meter: \u001b[33m56\u001b[39m },\n",
      "      lastUpdated: ISODate('2015-09-03T18:19:34.000Z'),\n",
      "      rotten: \u001b[33m4\u001b[39m,\n",
      "      production: \u001b[32m'MGM'\u001b[39m,\n",
      "      fresh: \u001b[33m5\u001b[39m\n",
      "    }\n",
      "  },\n",
      "  {\n",
      "    _id: ObjectId(\u001b[32m'573a1399f29313caabcec3a5'\u001b[39m),\n",
      "    plot: \u001b[32m\"In 1880's China, young Lalu is sold into marriage by her impoverished father. Rather than becoming a bride, Lalu ends up in an Idaho gold-mining town, the property of a saloon owner who ...\"\u001b[39m,\n",
      "    genres: [ \u001b[32m'Romance'\u001b[39m, \u001b[32m'Western'\u001b[39m ],\n",
      "    runtime: \u001b[33m105\u001b[39m,\n",
      "    rated: \u001b[32m'PG-13'\u001b[39m,\n",
      "    cast: [\n",
      "      \u001b[32m'Rosalind Chao'\u001b[39m,\n",
      "      \u001b[32m'Chris Cooper'\u001b[39m,\n",
      "      \u001b[32m'Michael Paul Chan'\u001b[39m,\n",
      "      \u001b[32m'Dennis Dun'\u001b[39m\n",
      "    ],\n",
      "    num_mflix_comments: \u001b[33m0\u001b[39m,\n",
      "    poster: \u001b[32m'https://m.media-amazon.com/images/M/MV5BOTI4MjU1ODg0NV5BMl5BanBnXkFtZTcwOTc0MTEzMQ@@._V1_SY1000_SX677_AL_.jpg'\u001b[39m,\n",
      "    title: \u001b[32m'Thousand Pieces of Gold'\u001b[39m,\n",
      "    fullplot: \u001b[32m\"In 1880's China, young Lalu is sold into marriage by her impoverished father. Rather than becoming a bride, Lalu ends up in an Idaho gold-mining town, the property of a saloon owner who renames her China Polly and plans to sell her as entertainment for the locals. Refusing to become a whore, Lalu ultimately finds her own way in this strange country filled with white demons.\"\u001b[39m,\n",
      "    languages: [ \u001b[32m'English'\u001b[39m ],\n",
      "    released: ISODate('1991-11-01T00:00:00.000Z'),\n",
      "    directors: [ \u001b[32m'Nancy Kelly'\u001b[39m ],\n",
      "    writers: [ \u001b[32m'Ruthanne Lum McCunn (novel)'\u001b[39m, \u001b[32m'Anne Makepeace (screenplay)'\u001b[39m ],\n",
      "    awards: { wins: \u001b[33m1\u001b[39m, nominations: \u001b[33m1\u001b[39m, text: \u001b[32m'1 win & 1 nomination.'\u001b[39m },\n",
      "    lastupdated: \u001b[32m'2015-08-15 00:56:02.600000000'\u001b[39m,\n",
      "    year: \u001b[33m1991\u001b[39m,\n",
      "    imdb: { rating: \u001b[33m7.2\u001b[39m, votes: \u001b[33m390\u001b[39m, id: \u001b[33m100774\u001b[39m },\n",
      "    countries: [ \u001b[32m'USA'\u001b[39m, \u001b[32m'UK'\u001b[39m ],\n",
      "    type: \u001b[32m'movie'\u001b[39m,\n",
      "    tomatoes: {\n",
      "      viewer: { rating: \u001b[33m3.7\u001b[39m, numReviews: \u001b[33m302\u001b[39m, meter: \u001b[33m71\u001b[39m },\n",
      "      dvd: ISODate('1998-01-01T00:00:00.000Z'),\n",
      "      production: \u001b[32m'Hemdale Home Video'\u001b[39m,\n",
      "      lastUpdated: ISODate('2015-09-12T17:09:42.000Z')\n",
      "    }\n",
      "  },\n",
      "  {\n",
      "    _id: ObjectId(\u001b[32m'573a1399f29313caabcec3d1'\u001b[39m),\n",
      "    plot: \u001b[32m'The \"Brigatte Veneno\" is a fan group from the soccer club \"AS Roma\". The next match is against \"Juventus Turin\", the classic prestige duel. Principe, the former leader of the group, has ...'\u001b[39m,\n",
      "    genres: [ \u001b[32m'Drama'\u001b[39m, \u001b[32m'Sport'\u001b[39m ],\n",
      "    runtime: \u001b[33m95\u001b[39m,\n",
      "    cast: [\n",
      "      \u001b[32m'Claudio Amendola'\u001b[39m,\n",
      "      \u001b[32m'Ricky Memphis'\u001b[39m,\n",
      "      \u001b[32m'Gianmarco Tognazzi'\u001b[39m,\n",
      "      \u001b[32m'Giuppy Izzo'\u001b[39m\n",
      "    ],\n",
      "    poster: \u001b[32m'https://m.media-amazon.com/images/M/MV5BNzg5OTg1NzY3OF5BMl5BanBnXkFtZTgwNDQxNjkwMzE@._V1_SY1000_SX677_AL_.jpg'\u001b[39m,\n",
      "    title: \u001b[32m'Ultrè'\u001b[39m,\n",
      "    fullplot: \u001b[32m'The \"Brigatte Veneno\" is a fan group from the soccer club \"AS Roma\". The next match is against \"Juventus Turin\", the classic prestige duel. Principe, the former leader of the group, has been dismissed from jail a few days before. He has to realize that his best friend Red has not only taken over control of the group, but also has started an affair with his girlfriend. The rivalry between the hot-blooded Principe and the sensible Red causes an anxious mood within the group. When Smilzo, a member of the group, dies during a street fight with another fan group, Red knows that Principe is to be blamed for this catastrophe.'\u001b[39m,\n",
      "    languages: [ \u001b[32m'Italian'\u001b[39m ],\n",
      "    released: ISODate('1991-03-01T00:00:00.000Z'),\n",
      "    directors: [ \u001b[32m'Ricky Tognazzi'\u001b[39m ],\n",
      "    writers: [\n",
      "      \u001b[32m'Simona Izzo (story)'\u001b[39m,\n",
      "      \u001b[32m'Graziano Diana (story)'\u001b[39m,\n",
      "      \u001b[32m'Ricky Tognazzi (story)'\u001b[39m,\n",
      "      \u001b[32m'Graziano Diana (screenplay)'\u001b[39m,\n",
      "      \u001b[32m'Simona Izzo (screenplay)'\u001b[39m,\n",
      "      \u001b[32m'Giuseppe Manfridi (screenplay)'\u001b[39m\n",
      "    ],\n",
      "    awards: { wins: \u001b[33m6\u001b[39m, nominations: \u001b[33m15\u001b[39m, text: \u001b[32m'6 wins & 15 nominations.'\u001b[39m },\n",
      "    lastupdated: \u001b[32m'2015-07-08 02:13:55.153000000'\u001b[39m,\n",
      "    year: \u001b[33m1991\u001b[39m,\n",
      "    imdb: { rating: \u001b[33m6.6\u001b[39m, votes: \u001b[33m559\u001b[39m, id: \u001b[33m100835\u001b[39m },\n",
      "    countries: [ \u001b[32m'Italy'\u001b[39m ],\n",
      "    type: \u001b[32m'movie'\u001b[39m,\n",
      "    tomatoes: {\n",
      "      viewer: { rating: \u001b[33m2.9\u001b[39m, numReviews: \u001b[33m20\u001b[39m },\n",
      "      lastUpdated: ISODate('2015-07-02T19:35:14.000Z')\n",
      "    },\n",
      "    num_mflix_comments: \u001b[33m0\u001b[39m\n",
      "  },\n",
      "  {\n",
      "    _id: ObjectId(\u001b[32m'573a1399f29313caabcec488'\u001b[39m),\n",
      "    plot: \u001b[32m'A romantic and action packed story of three best friends, a group of high end art thieves, who come into trouble when a love-triangle forms between them.'\u001b[39m,\n",
      "    genres: [ \u001b[32m'Action'\u001b[39m, \u001b[32m'Comedy'\u001b[39m, \u001b[32m'Crime'\u001b[39m ],\n",
      "    runtime: \u001b[33m103\u001b[39m,\n",
      "    rated: \u001b[32m'R'\u001b[39m,\n",
      "    cast: [ \u001b[32m'Yun-Fat Chow'\u001b[39m, \u001b[32m'Leslie Cheung'\u001b[39m, \u001b[32m'Cherie Chung'\u001b[39m, \u001b[32m'Kong Chu'\u001b[39m ],\n",
      "    poster: \u001b[32m'https://m.media-amazon.com/images/M/MV5BZDY5Mjk5YTgtZmVjYS00NTBjLTlkZjgtMTg0OGQxZjc4YTZiXkEyXkFqcGdeQXVyMjUyNDk2ODc@._V1_SY1000_SX677_AL_.jpg'\u001b[39m,\n",
      "    title: \u001b[32m'Once a Thief'\u001b[39m,\n",
      "    fullplot: \u001b[32m'Once a Thief is an action/comedy/romance movie involving the plight of three master thieves (in the mode of Pink Panther). All three were raised by the same father and in fact were most certainly street orphans. The story begins with a successful art heist followed by a pledge to make this the last crime ever for the trio. The plot revolves around the theft of a mysterious \"cursed\" painting and how its obsession affects the family.'\u001b[39m,\n",
      "    languages: [ \u001b[32m'French'\u001b[39m, \u001b[32m'Cantonese'\u001b[39m, \u001b[32m'English'\u001b[39m, \u001b[32m'Hakka'\u001b[39m ],\n",
      "    released: ISODate('1991-02-02T00:00:00.000Z'),\n",
      "    directors: [ \u001b[32m'John Woo'\u001b[39m ],\n",
      "    writers: [\n",
      "      \u001b[32m'Janet Chun'\u001b[39m,\n",
      "      \u001b[32m'Clifton Ko'\u001b[39m,\n",
      "      \u001b[32m'John Woo (screenplay)'\u001b[39m,\n",
      "      \u001b[32m'John Woo (story)'\u001b[39m\n",
      "    ],\n",
      "    awards: { wins: \u001b[33m0\u001b[39m, nominations: \u001b[33m4\u001b[39m, text: \u001b[32m'4 nominations.'\u001b[39m },\n",
      "    lastupdated: \u001b[32m'2015-08-08 00:20:09.413000000'\u001b[39m,\n",
      "    year: \u001b[33m1991\u001b[39m,\n",
      "    imdb: { rating: \u001b[33m6.8\u001b[39m, votes: \u001b[33m4271\u001b[39m, id: \u001b[33m101020\u001b[39m },\n",
      "    countries: [ \u001b[32m'Hong Kong'\u001b[39m ],\n",
      "    type: \u001b[32m'movie'\u001b[39m,\n",
      "    tomatoes: {\n",
      "      viewer: { rating: \u001b[33m3.4\u001b[39m, numReviews: \u001b[33m652\u001b[39m, meter: \u001b[33m55\u001b[39m },\n",
      "      dvd: ISODate('2003-04-22T00:00:00.000Z'),\n",
      "      critic: { rating: \u001b[33m6.5\u001b[39m, numReviews: \u001b[33m5\u001b[39m, meter: \u001b[33m60\u001b[39m },\n",
      "      lastUpdated: ISODate('2015-09-15T18:26:42.000Z'),\n",
      "      rotten: \u001b[33m2\u001b[39m,\n",
      "      production: \u001b[32m'Rim Film Distributors'\u001b[39m,\n",
      "      fresh: \u001b[33m3\u001b[39m\n",
      "    },\n",
      "    num_mflix_comments: \u001b[33m0\u001b[39m\n",
      "  },\n",
      "  {\n",
      "    _id: ObjectId(\u001b[32m'573a1399f29313caabcec4ba'\u001b[39m),\n",
      "    plot: \u001b[32m'The true story of Helen Betty Osborne, a 19 year old Indian girl who was brutually murdered and slain on November 12, 1971 in The Pas, Manitoba, Canada and nearly taking 20 years for the ...'\u001b[39m,\n",
      "    genres: [ \u001b[32m'Crime'\u001b[39m, \u001b[32m'Drama'\u001b[39m, \u001b[32m'Mystery'\u001b[39m ],\n",
      "    runtime: \u001b[33m240\u001b[39m,\n",
      "    cast: [\n",
      "      \u001b[32m'Michael Mahonen'\u001b[39m,\n",
      "      \u001b[32m'Ian Tracey'\u001b[39m,\n",
      "      \u001b[32m'Jonathan Potts'\u001b[39m,\n",
      "      \u001b[32m'Diego Chambers'\u001b[39m\n",
      "    ],\n",
      "    num_mflix_comments: \u001b[33m1\u001b[39m,\n",
      "    poster: \u001b[32m'https://m.media-amazon.com/images/M/MV5BMTg5ODIxOTk5NV5BMl5BanBnXkFtZTcwMDI2MjgxMQ@@._V1_SY1000_SX677_AL_.jpg'\u001b[39m,\n",
      "    title: \u001b[32m'Conspiracy of Silence'\u001b[39m,\n",
      "    fullplot: \u001b[32m'The true story of Helen Betty Osborne, a 19 year old Indian girl who was brutually murdered and slain on November 12, 1971 in The Pas, Manitoba, Canada and nearly taking 20 years for the police to find the four men who murdered her.'\u001b[39m,\n",
      "    languages: [ \u001b[32m'English'\u001b[39m ],\n",
      "    released: ISODate('1992-07-26T00:00:00.000Z'),\n",
      "    awards: { wins: \u001b[33m7\u001b[39m, nominations: \u001b[33m1\u001b[39m, text: \u001b[32m'7 wins & 1 nomination.'\u001b[39m },\n",
      "    lastupdated: \u001b[32m'2015-09-02 00:48:23.383000000'\u001b[39m,\n",
      "    year: \u001b[33m1991\u001b[39m,\n",
      "    imdb: { rating: \u001b[33m8\u001b[39m, votes: \u001b[33m169\u001b[39m, id: \u001b[33m101070\u001b[39m },\n",
      "    countries: [ \u001b[32m'Canada'\u001b[39m ],\n",
      "    type: \u001b[32m'series'\u001b[39m,\n",
      "    tomatoes: {\n",
      "      viewer: { rating: \u001b[33m2.5\u001b[39m, numReviews: \u001b[33m47\u001b[39m },\n",
      "      dvd: ISODate('2002-08-26T00:00:00.000Z'),\n",
      "      lastUpdated: ISODate('2015-01-02T04:28:41.000Z')\n",
      "    }\n",
      "  },\n",
      "  {\n",
      "    _id: ObjectId(\u001b[32m'573a1399f29313caabcec4d2'\u001b[39m),\n",
      "    plot: \u001b[32m\"During archery in a wood Princess Fantaghiro is discovered by the hostile king's son Romualdo. He is able to take a short look at her before she can escape and immediately falls in love ...\"\u001b[39m,\n",
      "    genres: [ \u001b[32m'Fantasy'\u001b[39m, \u001b[32m'Romance'\u001b[39m ],\n",
      "    runtime: \u001b[33m200\u001b[39m,\n",
      "    cast: [\n",
      "      \u001b[32m'Alessandra Martines'\u001b[39m,\n",
      "      \u001b[32m'Mario Adorf'\u001b[39m,\n",
      "      \u001b[32m'Kim Rossi Stuart'\u001b[39m,\n",
      "      \u001b[32m'èngela Molina'\u001b[39m\n",
      "    ],\n",
      "    poster: \u001b[32m'https://m.media-amazon.com/images/M/MV5BMTAzMDE1NDkyNzReQTJeQWpwZ15BbWU3MDU4NjI2MTE@._V1_SY1000_SX677_AL_.jpg'\u001b[39m,\n",
      "    title: \u001b[32m'The Cave of the Golden Rose'\u001b[39m,\n",
      "    fullplot: \u001b[32m\"During archery in a wood Princess Fantaghiro is discovered by the hostile king's son Romualdo. He is able to take a short look at her before she can escape and immediately falls in love with the unknown beauty. When Romulado challenges her father for a duel to end the bloody war between their people Fantaghiro is send out to fight him due to a prophecy. As Romualdo sees her dressed as a man he believes to recognize his beloved. So he tries everything to discover wether she is a man or a woman and prevent the duel. Fantaghiro starts to fall in love with him, too, but her sense of duty is strong. Will love bring them together or will it end as a tragedy?\"\u001b[39m,\n",
      "    languages: [ \u001b[32m'Italian'\u001b[39m ],\n",
      "    released: ISODate('1991-12-22T00:00:00.000Z'),\n",
      "    directors: [ \u001b[32m'Lamberto Bava'\u001b[39m ],\n",
      "    writers: [\n",
      "      \u001b[32m'Francesca Melandri (story)'\u001b[39m,\n",
      "      \u001b[32m'Gianni Romoli (story)'\u001b[39m,\n",
      "      \u001b[32m'Italo Calvino (short story \"Fanta-Ghirè'\u001b[39m,\n",
      "      \u001b[32m' persona bella\")'\u001b[39m\n",
      "    ],\n",
      "    awards: { wins: \u001b[33m1\u001b[39m, nominations: \u001b[33m0\u001b[39m, text: \u001b[32m'1 win.'\u001b[39m },\n",
      "    lastupdated: \u001b[32m'2015-08-22 01:04:42.233000000'\u001b[39m,\n",
      "    year: \u001b[33m1991\u001b[39m,\n",
      "    imdb: { rating: \u001b[33m7.6\u001b[39m, votes: \u001b[33m1681\u001b[39m, id: \u001b[33m101095\u001b[39m },\n",
      "    countries: [ \u001b[32m'Italy'\u001b[39m ],\n",
      "    type: \u001b[32m'movie'\u001b[39m,\n",
      "    num_mflix_comments: \u001b[33m0\u001b[39m\n",
      "  },\n",
      "  {\n",
      "    _id: ObjectId(\u001b[32m'573a1399f29313caabcec570'\u001b[39m),\n",
      "    plot: \u001b[32m'Director Michael Apted revisits the same group of British-born adults after a 7 year wait. The subjects are interviewed as to the changes that have occurred in their lives during the last ...'\u001b[39m,\n",
      "    genres: [ \u001b[32m'Documentary'\u001b[39m, \u001b[32m'Biography'\u001b[39m ],\n",
      "    runtime: \u001b[33m123\u001b[39m,\n",
      "    cast: [\n",
      "      \u001b[32m'Bruce Balden'\u001b[39m,\n",
      "      \u001b[32m'Jacqueline Bassett'\u001b[39m,\n",
      "      \u001b[32m'Symon Basterfield'\u001b[39m,\n",
      "      \u001b[32m'Andrew Brackfield'\u001b[39m\n",
      "    ],\n",
      "    poster: \u001b[32m'https://m.media-amazon.com/images/M/MV5BOTUzNzYzNTU0OF5BMl5BanBnXkFtZTcwNTE2NDkyMQ@@._V1_SY1000_SX677_AL_.jpg'\u001b[39m,\n",
      "    title: \u001b[32m'35 Up'\u001b[39m,\n",
      "    fullplot: \u001b[32m'Director Michael Apted revisits the same group of British-born adults after a 7 year wait. The subjects are interviewed as to the changes that have occurred in their lives during the last seven years.'\u001b[39m,\n",
      "    languages: [ \u001b[32m'English'\u001b[39m, \u001b[32m'Bengali'\u001b[39m, \u001b[32m'Bulgarian'\u001b[39m ],\n",
      "    released: ISODate('1992-01-15T00:00:00.000Z'),\n",
      "    directors: [ \u001b[32m'Michael Apted'\u001b[39m ],\n",
      "    awards: { wins: \u001b[33m1\u001b[39m, nominations: \u001b[33m1\u001b[39m, text: \u001b[32m'1 win & 1 nomination.'\u001b[39m },\n",
      "    lastupdated: \u001b[32m'2015-09-07 00:18:17.537000000'\u001b[39m,\n",
      "    year: \u001b[33m1991\u001b[39m,\n",
      "    imdb: { rating: \u001b[33m8.2\u001b[39m, votes: \u001b[33m1645\u001b[39m, id: \u001b[33m101254\u001b[39m },\n",
      "    countries: [ \u001b[32m'UK'\u001b[39m ],\n",
      "    type: \u001b[32m'movie'\u001b[39m,\n",
      "    tomatoes: {\n",
      "      viewer: { rating: \u001b[33m4.1\u001b[39m, numReviews: \u001b[33m1136\u001b[39m, meter: \u001b[33m91\u001b[39m },\n",
      "      dvd: ISODate('2004-10-19T00:00:00.000Z'),\n",
      "      critic: { rating: \u001b[33m7.9\u001b[39m, numReviews: \u001b[33m17\u001b[39m, meter: \u001b[33m94\u001b[39m },\n",
      "      lastUpdated: ISODate('2015-09-10T17:37:07.000Z'),\n",
      "      rotten: \u001b[33m1\u001b[39m,\n",
      "      production: \u001b[32m'Granada Television Productions'\u001b[39m,\n",
      "      fresh: \u001b[33m16\u001b[39m\n",
      "    },\n",
      "    num_mflix_comments: \u001b[33m0\u001b[39m\n",
      "  },\n",
      "  {\n",
      "    _id: ObjectId(\u001b[32m'573a1399f29313caabcec582'\u001b[39m),\n",
      "    plot: \u001b[32m'Con artists plan to fleece the eccentric family using an accomplice who claims to be their long lost Uncle Fester.'\u001b[39m,\n",
      "    genres: [ \u001b[32m'Comedy'\u001b[39m, \u001b[32m'Fantasy'\u001b[39m ],\n",
      "    runtime: \u001b[33m99\u001b[39m,\n",
      "    rated: \u001b[32m'PG-13'\u001b[39m,\n",
      "    cast: [\n",
      "      \u001b[32m'Anjelica Huston'\u001b[39m,\n",
      "      \u001b[32m'Raul Julia'\u001b[39m,\n",
      "      \u001b[32m'Christopher Lloyd'\u001b[39m,\n",
      "      \u001b[32m'Dan Hedaya'\u001b[39m\n",
      "    ],\n",
      "    num_mflix_comments: \u001b[33m0\u001b[39m,\n",
      "    poster: \u001b[32m'https://m.media-amazon.com/images/M/MV5BODc1NmY0MDUtNjUzNS00ODdhLWJlN2ItMTgwZjczZjI0MDkyXkEyXkFqcGdeQXVyNTAyODkwOQ@@._V1_SY1000_SX677_AL_.jpg'\u001b[39m,\n",
      "    title: \u001b[32m'The Addams Family'\u001b[39m,\n",
      "    fullplot: \u001b[32m\"The Addams step out of Charles Addams' cartoons. They live with all of the trappings of the macabre (including a detached hand for a servant) and are quite wealthy. Added to this mix is a crooked accountant and his loan shark and a plot to slip in the shark's son into the family as their long lost Uncle Fester. Can the false Fester find his way into the vault before he is discovered?\"\u001b[39m,\n",
      "    languages: [ \u001b[32m'English'\u001b[39m ],\n",
      "    released: ISODate('1991-11-22T00:00:00.000Z'),\n",
      "    directors: [ \u001b[32m'Barry Sonnenfeld'\u001b[39m ],\n",
      "    writers: [\n",
      "      \u001b[32m'Charles Addams (characters)'\u001b[39m,\n",
      "      \u001b[32m'Caroline Thompson'\u001b[39m,\n",
      "      \u001b[32m'Larry Wilson'\u001b[39m\n",
      "    ],\n",
      "    awards: {\n",
      "      wins: \u001b[33m5\u001b[39m,\n",
      "      nominations: \u001b[33m15\u001b[39m,\n",
      "      text: \u001b[32m'Nominated for 1 Oscar. Another 4 wins & 15 nominations.'\u001b[39m\n",
      "    },\n",
      "    lastupdated: \u001b[32m'2015-09-04 00:41:12.833000000'\u001b[39m,\n",
      "    year: \u001b[33m1991\u001b[39m,\n",
      "    imdb: { rating: \u001b[33m6.8\u001b[39m, votes: \u001b[33m87966\u001b[39m, id: \u001b[33m101272\u001b[39m },\n",
      "    countries: [ \u001b[32m'USA'\u001b[39m ],\n",
      "    type: \u001b[32m'movie'\u001b[39m,\n",
      "    tomatoes: {\n",
      "      viewer: { rating: \u001b[33m3.2\u001b[39m, numReviews: \u001b[33m314083\u001b[39m, meter: \u001b[33m66\u001b[39m },\n",
      "      dvd: ISODate('2000-02-22T00:00:00.000Z'),\n",
      "      critic: { rating: \u001b[33m5.6\u001b[39m, numReviews: \u001b[33m40\u001b[39m, meter: \u001b[33m60\u001b[39m },\n",
      "      lastUpdated: ISODate('2015-09-14T18:28:14.000Z'),\n",
      "      consensus: \u001b[32m\"The movie is peppered with amusing sight gags and one-liners, but the disjointed script doesn't cohere into a successful whole.\"\u001b[39m,\n",
      "      rotten: \u001b[33m16\u001b[39m,\n",
      "      production: \u001b[32m'Paramount Pictures'\u001b[39m,\n",
      "      fresh: \u001b[33m24\u001b[39m\n",
      "    }\n",
      "  },\n",
      "  {\n",
      "    _id: ObjectId(\u001b[32m'573a1399f29313caabcec58c'\u001b[39m),\n",
      "    plot: \u001b[32m\"A reflection about what makes everyone's life unique, through the story of Noah's family. Noah is an adjuster, having sex with his customers. His wife Hera watches pornographic movies for ...\"\u001b[39m,\n",
      "    genres: [ \u001b[32m'Comedy'\u001b[39m, \u001b[32m'Drama'\u001b[39m ],\n",
      "    runtime: \u001b[33m102\u001b[39m,\n",
      "    rated: \u001b[32m'R'\u001b[39m,\n",
      "    cast: [\n",
      "      \u001b[32m'Elias Koteas'\u001b[39m,\n",
      "      \u001b[32m'Arsinèe Khanjian'\u001b[39m,\n",
      "      \u001b[32m'Maury Chaykin'\u001b[39m,\n",
      "      \u001b[32m'Gabrielle Rose'\u001b[39m\n",
      "    ],\n",
      "    num_mflix_comments: \u001b[33m0\u001b[39m,\n",
      "    poster: \u001b[32m'https://m.media-amazon.com/images/M/MV5BZjY4ZTdjZTItZmM1Ny00ZjIyLWI4OGYtOWY5NjY5YjA3ZDNiXkEyXkFqcGdeQXVyNzc5MjA3OA@@._V1_SY1000_SX677_AL_.jpg'\u001b[39m,\n",
      "    title: \u001b[32m'The Adjuster'\u001b[39m,\n",
      "    fullplot: \u001b[32m\"A reflection about what makes everyone's life unique, through the story of Noah's family. Noah is an adjuster, having sex with his customers. His wife Hera watches pornographic movies for the Board of Censors. They live with their son Simon and Hera's sister in a show-flat. One day, they meet Bubba, who wants to make a movie in their house.\"\u001b[39m,\n",
      "    languages: [ \u001b[32m'English'\u001b[39m ],\n",
      "    released: ISODate('1992-07-01T00:00:00.000Z'),\n",
      "    directors: [ \u001b[32m'Atom Egoyan'\u001b[39m ],\n",
      "    writers: [ \u001b[32m'Atom Egoyan'\u001b[39m ],\n",
      "    awards: { wins: \u001b[33m5\u001b[39m, nominations: \u001b[33m2\u001b[39m, text: \u001b[32m'5 wins & 2 nominations.'\u001b[39m },\n",
      "    lastupdated: \u001b[32m'2015-08-16 00:38:44.963000000'\u001b[39m,\n",
      "    year: \u001b[33m1991\u001b[39m,\n",
      "    imdb: { rating: \u001b[33m6.8\u001b[39m, votes: \u001b[33m2464\u001b[39m, id: \u001b[33m101273\u001b[39m },\n",
      "    countries: [ \u001b[32m'Canada'\u001b[39m ],\n",
      "    type: \u001b[32m'movie'\u001b[39m,\n",
      "    tomatoes: {\n",
      "      viewer: { rating: \u001b[33m3.6\u001b[39m, numReviews: \u001b[33m1298\u001b[39m, meter: \u001b[33m74\u001b[39m },\n",
      "      dvd: ISODate('2001-04-10T00:00:00.000Z'),\n",
      "      critic: { rating: \u001b[33m6.7\u001b[39m, numReviews: \u001b[33m11\u001b[39m, meter: \u001b[33m73\u001b[39m },\n",
      "      lastUpdated: ISODate('2015-09-11T17:41:30.000Z'),\n",
      "      rotten: \u001b[33m3\u001b[39m,\n",
      "      production: \u001b[32m'Alliance Atlantis Communications'\u001b[39m,\n",
      "      fresh: \u001b[33m8\u001b[39m\n",
      "    }\n",
      "  },\n",
      "  {\n",
      "    _id: ObjectId(\u001b[32m'573a1399f29313caabcec598'\u001b[39m),\n",
      "    plot: \u001b[32m\"A well-off family is paid an unexpected, and rather unwanted, visit by a man claiming to be the woman's long-lost uncle. The initial suspicion with which they greet the man slowly dissolves...\"\u001b[39m,\n",
      "    genres: [ \u001b[32m'Drama'\u001b[39m ],\n",
      "    runtime: \u001b[33m97\u001b[39m,\n",
      "    cast: [\n",
      "      \u001b[32m'Dipankar Dey'\u001b[39m,\n",
      "      \u001b[32m'Mamata Shankar'\u001b[39m,\n",
      "      \u001b[32m'Bikram Bhattacharya'\u001b[39m,\n",
      "      \u001b[32m'Utpal Dutt'\u001b[39m\n",
      "    ],\n",
      "    num_mflix_comments: \u001b[33m2\u001b[39m,\n",
      "    poster: \u001b[32m'https://m.media-amazon.com/images/M/MV5BYzliMzVhZWMtZTFkNy00YmNlLWJkMGYtZWEyZmM2ZTVhMWQwXkEyXkFqcGdeQXVyMTQxNzMzNDI@._V1_SY1000_SX677_AL_.jpg'\u001b[39m,\n",
      "    title: \u001b[32m'The Stranger'\u001b[39m,\n",
      "    fullplot: \u001b[32m\"A well-off family is paid an unexpected, and rather unwanted, visit by a man claiming to be the woman's long-lost uncle. The initial suspicion with which they greet the man slowly dissolves as he regales them with stories of his travels, tales that are at odds with their conventional middle-class perspective on the world.\"\u001b[39m,\n",
      "    languages: [ \u001b[32m'Bengali'\u001b[39m, \u001b[32m'English'\u001b[39m ],\n",
      "    released: ISODate('1992-08-26T00:00:00.000Z'),\n",
      "    directors: [ \u001b[32m'Satyajit Ray'\u001b[39m ],\n",
      "    writers: [\n",
      "      \u001b[32m'Satyajit Ray (scenario)'\u001b[39m,\n",
      "      \u001b[32m'Satyajit Ray (screenplay)'\u001b[39m,\n",
      "      \u001b[32m'Satyajit Ray (story)'\u001b[39m\n",
      "    ],\n",
      "    awards: { wins: \u001b[33m2\u001b[39m, nominations: \u001b[33m0\u001b[39m, text: \u001b[32m'2 wins.'\u001b[39m },\n",
      "    lastupdated: \u001b[32m'2015-06-24 00:12:57.643000000'\u001b[39m,\n",
      "    year: \u001b[33m1991\u001b[39m,\n",
      "    imdb: { rating: \u001b[33m8\u001b[39m, votes: \u001b[33m1282\u001b[39m, id: \u001b[33m101279\u001b[39m },\n",
      "    countries: [ \u001b[32m'France'\u001b[39m, \u001b[32m'India'\u001b[39m ],\n",
      "    type: \u001b[32m'movie'\u001b[39m,\n",
      "    tomatoes: {\n",
      "      viewer: { rating: \u001b[33m4.3\u001b[39m, numReviews: \u001b[33m487\u001b[39m, meter: \u001b[33m98\u001b[39m },\n",
      "      dvd: ISODate('2010-02-15T00:00:00.000Z'),\n",
      "      critic: { rating: \u001b[33m8.2\u001b[39m, numReviews: \u001b[33m9\u001b[39m, meter: \u001b[33m100\u001b[39m },\n",
      "      lastUpdated: ISODate('2015-08-03T19:05:32.000Z'),\n",
      "      rotten: \u001b[33m0\u001b[39m,\n",
      "      fresh: \u001b[33m9\u001b[39m\n",
      "    }\n",
      "  },\n",
      "  {\n",
      "    _id: ObjectId(\u001b[32m'573a1399f29313caabcec59c'\u001b[39m),\n",
      "    plot: \u001b[32m'Hallie and Ethans divorced mother is about to remarry. When Hallie goes to visit Santa Claus, she asks for an unusual gift - she wants her parents back together again.'\u001b[39m,\n",
      "    genres: [ \u001b[32m'Comedy'\u001b[39m, \u001b[32m'Family'\u001b[39m, \u001b[32m'Romance'\u001b[39m ],\n",
      "    runtime: \u001b[33m92\u001b[39m,\n",
      "    rated: \u001b[32m'G'\u001b[39m,\n",
      "    cast: [\n",
      "      \u001b[32m'Harley Jane Kozak'\u001b[39m,\n",
      "      \u001b[32m'Jamey Sheridan'\u001b[39m,\n",
      "      \u001b[32m'Ethan Embry'\u001b[39m,\n",
      "      \u001b[32m'Kevin Nealon'\u001b[39m\n",
      "    ],\n",
      "    num_mflix_comments: \u001b[33m1\u001b[39m,\n",
      "    poster: \u001b[32m'https://m.media-amazon.com/images/M/MV5BY2QwOTE0YTUtNTBkNy00NTExLTgwMzItYjkxOWViM2RmMzdlXkEyXkFqcGdeQXVyNzc5MjA3OA@@._V1_SY1000_SX677_AL_.jpg'\u001b[39m,\n",
      "    title: \u001b[32m'All I Want for Christmas'\u001b[39m,\n",
      "    fullplot: \u001b[32m`\"All I Want For Christmas\" is a comedy about two New York City children who launch a hilarious scheme to get what they most want this holiday season. Ethan, a practical older brother, and adorable Hallie, who knows how to charm her way out of a difficult situation, are intent on spending Christmas with their parents, Catherine and Micheal, and grandmother Lillian. As Ethan and Hallie embark on their adventure, almost nothing goes exactly as they planned. Complicating things is a smarmy businessman named Toney Boer, who has taken an interest in Catherine. Ethan, meanwhile, is preoccupied with not only his parents' romantic dilemma, but also his own - one brought about by his new friendship with Stephanie, his first teenage crush. What evolves is an elaborate scheme involving mice, telephone calls and an ice-cream truck, as Ethan and Hallie try to achieve their goal with the help of Stephanie. The duo's primary obstacle is their mother's fiance, Tony. The children finally succeed with a little Christmas magic from Santa Claus.`\u001b[39m,\n",
      "    languages: [ \u001b[32m'English'\u001b[39m ],\n",
      "    released: ISODate('1991-11-08T00:00:00.000Z'),\n",
      "    directors: [ \u001b[32m'Robert Lieberman'\u001b[39m ],\n",
      "    writers: [ \u001b[32m'Thom Eberhardt'\u001b[39m, \u001b[32m'Richard Kramer'\u001b[39m ],\n",
      "    awards: { wins: \u001b[33m0\u001b[39m, nominations: \u001b[33m3\u001b[39m, text: \u001b[32m'3 nominations.'\u001b[39m },\n",
      "    lastupdated: \u001b[32m'2015-09-14 10:28:24.260000000'\u001b[39m,\n",
      "    year: \u001b[33m1991\u001b[39m,\n",
      "    imdb: { rating: \u001b[33m6\u001b[39m, votes: \u001b[33m2875\u001b[39m, id: \u001b[33m101301\u001b[39m },\n",
      "    countries: [ \u001b[32m'USA'\u001b[39m ],\n",
      "    type: \u001b[32m'movie'\u001b[39m,\n",
      "    tomatoes: {\n",
      "      viewer: { rating: \u001b[33m3.1\u001b[39m, numReviews: \u001b[33m9689\u001b[39m, meter: \u001b[33m60\u001b[39m },\n",
      "      dvd: ISODate('2004-10-05T00:00:00.000Z'),\n",
      "      critic: { rating: \u001b[33m3\u001b[39m, numReviews: \u001b[33m13\u001b[39m, meter: \u001b[33m0\u001b[39m },\n",
      "      lastUpdated: ISODate('2015-08-24T18:52:14.000Z'),\n",
      "      rotten: \u001b[33m13\u001b[39m,\n",
      "      production: \u001b[32m'Paramount Home Video'\u001b[39m,\n",
      "      fresh: \u001b[33m0\u001b[39m\n",
      "    }\n",
      "  },\n",
      "  {\n",
      "    _id: ObjectId(\u001b[32m'573a1399f29313caabcec5ac'\u001b[39m),\n",
      "    plot: \u001b[32m\"Alex, who's homeless and addicted to alcohol, and Michèle, who's losing her sight, form a relationship while sleeping rough on Paris's Pont-Neuf bridge.\"\u001b[39m,\n",
      "    genres: [ \u001b[32m'Drama'\u001b[39m, \u001b[32m'Romance'\u001b[39m ],\n",
      "    runtime: \u001b[33m125\u001b[39m,\n",
      "    rated: \u001b[32m'R'\u001b[39m,\n",
      "    cast: [\n",
      "      \u001b[32m'Juliette Binoche'\u001b[39m,\n",
      "      \u001b[32m'Denis Lavant'\u001b[39m,\n",
      "      \u001b[32m'Daniel Buain'\u001b[39m,\n",
      "      \u001b[32m'Klaus-Michael Grèber'\u001b[39m\n",
      "    ],\n",
      "    num_mflix_comments: \u001b[33m1\u001b[39m,\n",
      "    poster: \u001b[32m'https://m.media-amazon.com/images/M/MV5BZmRlMzg3NjAtNzQzYi00ZTRlLTk0YzctNjVhMjM5MjA0NWRlXkEyXkFqcGdeQXVyMjIyNzU0OA@@._V1_SY1000_SX677_AL_.jpg'\u001b[39m,\n",
      "    title: \u001b[32m'The Lovers on the Bridge'\u001b[39m,\n",
      "    fullplot: \u001b[32m\"Set against Paris' oldest bridge, the Pont Neuf, while it was closed for repairs, this film is a love story between two young vagrants: Alex, a would be circus performer addicted to alcohol and sedatives and Michele, a painter driven to a life on the streets because of a failed relationship and an affliction which is slowly turning her blind. The film portrays the harsh existence of the homeless as Alex, Michele and Hans, an older vagrant survive on the streets with their wits. As they both slowly get their lives back together, Michele becomes increasingly dependent on Alex as her vision deteriorates further. Fearing that Michele will leave him if she receives a new medical treatment Alex attempts to keep Michele practically a prisoner. The streets, skies and waterways of Paris are used as a backdrop to the story in a series of stunning visuals which dominate the film.\"\u001b[39m,\n",
      "    languages: [ \u001b[32m'French'\u001b[39m ],\n",
      "    released: ISODate('1999-07-02T00:00:00.000Z'),\n",
      "    directors: [ \u001b[32m'Leos Carax'\u001b[39m ],\n",
      "    writers: [ \u001b[32m'Leos Carax'\u001b[39m ],\n",
      "    awards: {\n",
      "      wins: \u001b[33m5\u001b[39m,\n",
      "      nominations: \u001b[33m5\u001b[39m,\n",
      "      text: \u001b[32m'Nominated for 1 BAFTA Film Award. Another 4 wins & 5 nominations.'\u001b[39m\n",
      "    },\n",
      "    lastupdated: \u001b[32m'2015-09-14 08:37:47.610000000'\u001b[39m,\n",
      "    year: \u001b[33m1991\u001b[39m,\n",
      "    imdb: { rating: \u001b[33m7.5\u001b[39m, votes: \u001b[33m8070\u001b[39m, id: \u001b[33m101318\u001b[39m },\n",
      "    countries: [ \u001b[32m'France'\u001b[39m ],\n",
      "    type: \u001b[32m'movie'\u001b[39m,\n",
      "    tomatoes: {\n",
      "      viewer: { rating: \u001b[33m4\u001b[39m, numReviews: \u001b[33m5523\u001b[39m, meter: \u001b[33m89\u001b[39m },\n",
      "      dvd: ISODate('2004-01-13T00:00:00.000Z'),\n",
      "      critic: { rating: \u001b[33m7.2\u001b[39m, numReviews: \u001b[33m18\u001b[39m, meter: \u001b[33m83\u001b[39m },\n",
      "      lastUpdated: ISODate('2015-08-24T19:18:23.000Z'),\n",
      "      rotten: \u001b[33m3\u001b[39m,\n",
      "      production: \u001b[32m'Miramax Films'\u001b[39m,\n",
      "      fresh: \u001b[33m15\u001b[39m\n",
      "    }\n",
      "  },\n",
      "  {\n",
      "    _id: ObjectId(\u001b[32m'573a1399f29313caabcec5bb'\u001b[39m),\n",
      "    plot: \u001b[32m'Francis Ashby, a senior Oxford don on holiday alone in the Alps, meets holidaying American Caroline and her companion Elinor, the blossoming Irish-American girl she adopted many years ...'\u001b[39m,\n",
      "    genres: [ \u001b[32m'Comedy'\u001b[39m, \u001b[32m'Drama'\u001b[39m ],\n",
      "    runtime: \u001b[33m95\u001b[39m,\n",
      "    rated: \u001b[32m'PG'\u001b[39m,\n",
      "    cast: [\n",
      "      \u001b[32m'Bryan Pringle'\u001b[39m,\n",
      "      \u001b[32m'Fred Pearson'\u001b[39m,\n",
      "      \u001b[32m'Michael Palin'\u001b[39m,\n",
      "      \u001b[32m'Alfred Molina'\u001b[39m\n",
      "    ],\n",
      "    poster: \u001b[32m'https://m.media-amazon.com/images/M/MV5BMDVmNjMyZWQtMTc0Zi00MjA2LWFjZjEtZDMwYjIyMjhhYmJiXkEyXkFqcGdeQXVyMjE4MTIyNDI@._V1_SY1000_SX677_AL_.jpg'\u001b[39m,\n",
      "    title: \u001b[32m'American Friends'\u001b[39m,\n",
      "    fullplot: \u001b[32m'Francis Ashby, a senior Oxford don on holiday alone in the Alps, meets holidaying American Caroline and her companion Elinor, the blossoming Irish-American girl she adopted many years before. Ashby finds he enjoys their company, particularly that of Elinor, and both the women are drawn to him. Back at Oxford he is nevertheless taken aback when they arrive unannounced. Women are not allowed in the College grounds, let alone the rooms. Indeed any liaison, however innocent, is frowned on by the upstanding Fellows.'\u001b[39m,\n",
      "    languages: [ \u001b[32m'English'\u001b[39m ],\n",
      "    released: ISODate('1993-04-01T00:00:00.000Z'),\n",
      "    directors: [ \u001b[32m'Tristram Powell'\u001b[39m ],\n",
      "    writers: [\n",
      "      \u001b[32m'Michael Palin (story)'\u001b[39m,\n",
      "      \u001b[32m'Michael Palin (screenplay)'\u001b[39m,\n",
      "      \u001b[32m'Tristram Powell (screenplay)'\u001b[39m\n",
      "    ],\n",
      "    awards: { wins: \u001b[33m1\u001b[39m, nominations: \u001b[33m1\u001b[39m, text: \u001b[32m'1 win & 1 nomination.'\u001b[39m },\n",
      "    lastupdated: \u001b[32m'2015-09-07 01:15:50.887000000'\u001b[39m,\n",
      "    year: \u001b[33m1991\u001b[39m,\n",
      "    imdb: { rating: \u001b[33m6.6\u001b[39m, votes: \u001b[33m526\u001b[39m, id: \u001b[33m101324\u001b[39m },\n",
      "    countries: [ \u001b[32m'UK'\u001b[39m ],\n",
      "    type: \u001b[32m'movie'\u001b[39m,\n",
      "    tomatoes: {\n",
      "      viewer: { rating: \u001b[33m3.3\u001b[39m, numReviews: \u001b[33m405\u001b[39m, meter: \u001b[33m45\u001b[39m },\n",
      "      dvd: ISODate('2000-01-01T00:00:00.000Z'),\n",
      "      production: \u001b[32m'Castle Hill'\u001b[39m,\n",
      "      lastUpdated: ISODate('2015-08-18T19:30:22.000Z')\n",
      "    },\n",
      "    num_mflix_comments: \u001b[33m0\u001b[39m\n",
      "  },\n",
      "  {\n",
      "    _id: ObjectId(\u001b[32m'573a1399f29313caabcec5c4'\u001b[39m),\n",
      "    plot: \u001b[32m'Two inventor brothers create a working robot that is also inhabited by the spirit of their dead father.'\u001b[39m,\n",
      "    genres: [ \u001b[32m'Comedy'\u001b[39m, \u001b[32m'Family'\u001b[39m, \u001b[32m'Fantasy'\u001b[39m ],\n",
      "    runtime: \u001b[33m92\u001b[39m,\n",
      "    rated: \u001b[32m'PG'\u001b[39m,\n",
      "    cast: [\n",
      "      \u001b[32m'Marcia Strassman'\u001b[39m,\n",
      "      \u001b[32m'Joshua John Miller'\u001b[39m,\n",
      "      \u001b[32m'Edan Gross'\u001b[39m,\n",
      "      \u001b[32m'John Quade'\u001b[39m\n",
      "    ],\n",
      "    num_mflix_comments: \u001b[33m0\u001b[39m,\n",
      "    poster: \u001b[32m'https://m.media-amazon.com/images/M/MV5BYTc4MmZiYWYtM2I2ZS00OGM4LWI1ODgtMTM1OGQ3MDVjZDUzXkEyXkFqcGdeQXVyMTQxNzMzNDI@._V1_SY1000_SX677_AL_.jpg'\u001b[39m,\n",
      "    title: \u001b[32m'And You Thought Your Parents Were Weird'\u001b[39m,\n",
      "    fullplot: \u001b[32m\"Two boys follow in their late father's footsteps by inventing weird and wonderful gadgets. Trouble lies ahead when, after a Halloween party, the spirit of their father ends up in the latest invention, a robot.\"\u001b[39m,\n",
      "    languages: [ \u001b[32m'English'\u001b[39m ],\n",
      "    released: ISODate('1991-11-15T00:00:00.000Z'),\n",
      "    directors: [ \u001b[32m'Tony Cookson'\u001b[39m ],\n",
      "    writers: [ \u001b[32m'Tony Cookson'\u001b[39m ],\n",
      "    awards: { wins: \u001b[33m0\u001b[39m, nominations: \u001b[33m4\u001b[39m, text: \u001b[32m'4 nominations.'\u001b[39m },\n",
      "    lastupdated: \u001b[32m'2015-09-13 00:00:46.957000000'\u001b[39m,\n",
      "    year: \u001b[33m1991\u001b[39m,\n",
      "    imdb: { rating: \u001b[33m4.4\u001b[39m, votes: \u001b[33m361\u001b[39m, id: \u001b[33m101343\u001b[39m },\n",
      "    countries: [ \u001b[32m'USA'\u001b[39m ],\n",
      "    type: \u001b[32m'movie'\u001b[39m,\n",
      "    tomatoes: {\n",
      "      viewer: { rating: \u001b[33m3.2\u001b[39m, numReviews: \u001b[33m270\u001b[39m, meter: \u001b[33m33\u001b[39m },\n",
      "      dvd: ISODate('1992-02-19T00:00:00.000Z'),\n",
      "      production: \u001b[32m'Trimark'\u001b[39m,\n",
      "      lastUpdated: ISODate('2015-09-11T18:52:51.000Z')\n",
      "    }\n",
      "  }\n",
      "]\n",
      "Type \"it\" for more\n"
     ]
    }
   ],
   "source": [
    "readString = \"db.movies.find({year:1991})\"\n",
    "\n",
    "!mongosh {mongoDB_connection_string} --quiet  --username {mongoDB_username} -p {mongoDB_password} \\\n",
    "--eval \"use sample_mflix\" \\\n",
    "--eval \"{readString}\""
   ]
  },
  {
   "cell_type": "markdown",
   "metadata": {},
   "source": [
    "#### Some Comments on the Above Query\n",
    "- the filter object is `{year:1991}`. This is an example of the most basic query. It is a single field (`year`) equality match (1991)\n",
    "- If you scroll down to the bottom of the output, note how it says \"Type \"it\" for more.\" This is due to the fact that `find()` returns a *cursor*"
   ]
  },
  {
   "cell_type": "code",
   "execution_count": 5,
   "metadata": {},
   "outputs": [
    {
     "name": "stdout",
     "output_type": "stream",
     "text": [
      "\u001b]0;mongosh mongodb+srv://<credentials>@devcert.6ngvd.mongodb.net/\u0007\u001b[1G\u001b[0J \u001b[1G[\n",
      "  {\n",
      "    _id: ObjectId(\"573a1398f29313caabcead6a\"),\n",
      "    title: \u001b[32m'The House of Smiles'\u001b[39m,\n",
      "    year: \u001b[33m1991\u001b[39m\n",
      "  },\n",
      "  {\n",
      "    _id: ObjectId(\"573a1398f29313caabcebadc\"),\n",
      "    title: \u001b[32m'They Call Me Macho Woman!'\u001b[39m,\n",
      "    year: \u001b[33m1991\u001b[39m\n",
      "  },\n",
      "  {\n",
      "    _id: ObjectId(\"573a1398f29313caabcebc97\"),\n",
      "    title: \u001b[32m'Prime Suspect'\u001b[39m,\n",
      "    year: \u001b[33m1991\u001b[39m\n",
      "  },\n",
      "  {\n",
      "    _id: ObjectId(\"573a1398f29313caabcebdf2\"),\n",
      "    title: \u001b[32m'City of the Blind'\u001b[39m,\n",
      "    year: \u001b[33m1991\u001b[39m\n",
      "  },\n",
      "  {\n",
      "    _id: ObjectId(\"573a1398f29313caabcebf0b\"),\n",
      "    title: \u001b[32m'Armour of God 2: Operation Condor'\u001b[39m,\n",
      "    year: \u001b[33m1991\u001b[39m\n",
      "  },\n",
      "  {\n",
      "    _id: ObjectId(\"573a1399f29313caabcec20a\"),\n",
      "    title: \u001b[32m'Perfectly Normal'\u001b[39m,\n",
      "    year: \u001b[33m1991\u001b[39m\n",
      "  },\n",
      "  {\n",
      "    _id: ObjectId(\"573a1399f29313caabcec22b\"),\n",
      "    title: \u001b[32m'The Pit and the Pendulum'\u001b[39m,\n",
      "    year: \u001b[33m1991\u001b[39m\n",
      "  },\n",
      "  {\n",
      "    _id: ObjectId(\"573a1399f29313caabcec3a5\"),\n",
      "    title: \u001b[32m'Thousand Pieces of Gold'\u001b[39m,\n",
      "    year: \u001b[33m1991\u001b[39m\n",
      "  },\n",
      "  {\n",
      "    _id: ObjectId(\"573a1399f29313caabcec3d1\"),\n",
      "    title: \u001b[32m'Ultrè'\u001b[39m,\n",
      "    year: \u001b[33m1991\u001b[39m\n",
      "  },\n",
      "  {\n",
      "    _id: ObjectId(\"573a1399f29313caabcec488\"),\n",
      "    title: \u001b[32m'Once a Thief'\u001b[39m,\n",
      "    year: \u001b[33m1991\u001b[39m\n",
      "  },\n",
      "  {\n",
      "    _id: ObjectId(\"573a1399f29313caabcec4ba\"),\n",
      "    title: \u001b[32m'Conspiracy of Silence'\u001b[39m,\n",
      "    year: \u001b[33m1991\u001b[39m\n",
      "  },\n",
      "  {\n",
      "    _id: ObjectId(\"573a1399f29313caabcec4d2\"),\n",
      "    title: \u001b[32m'The Cave of the Golden Rose'\u001b[39m,\n",
      "    year: \u001b[33m1991\u001b[39m\n",
      "  },\n",
      "  {\n",
      "    _id: ObjectId(\"573a1399f29313caabcec570\"),\n",
      "    title: \u001b[32m'35 Up'\u001b[39m,\n",
      "    year: \u001b[33m1991\u001b[39m\n",
      "  },\n",
      "  {\n",
      "    _id: ObjectId(\"573a1399f29313caabcec582\"),\n",
      "    title: \u001b[32m'The Addams Family'\u001b[39m,\n",
      "    year: \u001b[33m1991\u001b[39m\n",
      "  },\n",
      "  {\n",
      "    _id: ObjectId(\"573a1399f29313caabcec58c\"),\n",
      "    title: \u001b[32m'The Adjuster'\u001b[39m,\n",
      "    year: \u001b[33m1991\u001b[39m\n",
      "  },\n",
      "  {\n",
      "    _id: ObjectId(\"573a1399f29313caabcec598\"),\n",
      "    title: \u001b[32m'The Stranger'\u001b[39m,\n",
      "    year: \u001b[33m1991\u001b[39m\n",
      "  },\n",
      "  {\n",
      "    _id: ObjectId(\"573a1399f29313caabcec59c\"),\n",
      "    title: \u001b[32m'All I Want for Christmas'\u001b[39m,\n",
      "    year: \u001b[33m1991\u001b[39m\n",
      "  },\n",
      "  {\n",
      "    _id: ObjectId(\"573a1399f29313caabcec5ac\"),\n",
      "    title: \u001b[32m'The Lovers on the Bridge'\u001b[39m,\n",
      "    year: \u001b[33m1991\u001b[39m\n",
      "  },\n",
      "  {\n",
      "    _id: ObjectId(\"573a1399f29313caabcec5bb\"),\n",
      "    title: \u001b[32m'American Friends'\u001b[39m,\n",
      "    year: \u001b[33m1991\u001b[39m\n",
      "  },\n",
      "  {\n",
      "    _id: ObjectId(\"573a1399f29313caabcec5c4\"),\n",
      "    title: \u001b[32m'And You Thought Your Parents Were Weird'\u001b[39m,\n",
      "    year: \u001b[33m1991\u001b[39m\n",
      "  }\n",
      "]\n",
      "Type \"it\" for more\n"
     ]
    }
   ],
   "source": [
    "readString = \"db.movies.find({year:1991},{title:1,year:1})\"\n",
    "\n",
    "!mongosh {mongoDB_connection_string} --quiet  --username {mongoDB_username} -p {mongoDB_password} \\\n",
    "--eval \"use sample_mflix\" \\\n",
    "--eval \"{readString}\""
   ]
  },
  {
   "cell_type": "markdown",
   "metadata": {},
   "source": [
    "#### Some Comments on the Above Query\n",
    "- we made a `projection` on `{title:1,year:1}` with the same `filter` as the previous example\n",
    "- note that `_id` returns automatically. To disable that, you must explicitly state `{_id:0}` in the projection\n",
    "\n",
    "## More Query Syntax\n",
    "MQL is typically used in the mongo shell (which is a javascript interpreter) or in code... In both cases, it is possible to chain functions to add functionality to the query language:\n",
    "- `.sort({sort})` this adds a sort to the query\n",
    "- `.limit(<int> or -1)` this limits the number of documents results\n",
    "- `.explain()` We will get in to this a little more later, but it returns the *query plan* for a given query\n",
    "\n",
    "`sort` and `limit` are only supported for `find()` operations, not `findOne()`\n",
    "\n",
    "Let's look at a few more examples:"
   ]
  },
  {
   "cell_type": "code",
   "execution_count": 6,
   "metadata": {},
   "outputs": [
    {
     "name": "stdout",
     "output_type": "stream",
     "text": [
      "\u001b]0;mongosh mongodb+srv://<credentials>@devcert.6ngvd.mongodb.net/\u0007\u001b[1G\u001b[0J \u001b[1G[\n",
      "  { title: \u001b[32m'35 Up'\u001b[39m, year: \u001b[33m1991\u001b[39m },\n",
      "  { year: \u001b[33m1991\u001b[39m, title: \u001b[32m'A Brief History of Time'\u001b[39m },\n",
      "  { title: \u001b[32m'A Brighter Summer Day'\u001b[39m, year: \u001b[33m1991\u001b[39m },\n",
      "  { title: \u001b[32m'A Kiss Before Dying'\u001b[39m, year: \u001b[33m1991\u001b[39m },\n",
      "  { title: \u001b[32m'A Little Stiff'\u001b[39m, year: \u001b[33m1991\u001b[39m },\n",
      "  { title: \u001b[32m'A Rage in Harlem'\u001b[39m, year: \u001b[33m1991\u001b[39m },\n",
      "  { title: \u001b[32m'A Scene at the Sea'\u001b[39m, year: \u001b[33m1991\u001b[39m },\n",
      "  { title: \u001b[32m\"A Woman's Tale\"\u001b[39m, year: \u001b[33m1991\u001b[39m },\n",
      "  { title: \u001b[32m'A Year Along the Abandoned Road'\u001b[39m, year: \u001b[33m1991\u001b[39m },\n",
      "  { title: \u001b[32m'All I Want for Christmas'\u001b[39m, year: \u001b[33m1991\u001b[39m },\n",
      "  { title: \u001b[32m'American Friends'\u001b[39m, year: \u001b[33m1991\u001b[39m },\n",
      "  { title: \u001b[32m'And You Thought Your Parents Were Weird'\u001b[39m, year: \u001b[33m1991\u001b[39m },\n",
      "  { title: \u001b[32m'Armour of God 2: Operation Condor'\u001b[39m, year: \u001b[33m1991\u001b[39m },\n",
      "  { title: \u001b[32m'Assassin of the Tsar'\u001b[39m, year: \u001b[33m1991\u001b[39m },\n",
      "  { title: \u001b[32m'At Play in the Fields of the Lord'\u001b[39m, year: \u001b[33m1991\u001b[39m },\n",
      "  { title: \u001b[32m'Backdraft'\u001b[39m, year: \u001b[33m1991\u001b[39m },\n",
      "  { year: \u001b[33m1991\u001b[39m, title: \u001b[32m'Barton Fink'\u001b[39m },\n",
      "  { title: \u001b[32m'Basket Case 3'\u001b[39m, year: \u001b[33m1991\u001b[39m },\n",
      "  { title: \u001b[32m'Beauty and the Beast'\u001b[39m, year: \u001b[33m1991\u001b[39m },\n",
      "  { title: \u001b[32m'Bian zou bian chang'\u001b[39m, year: \u001b[33m1991\u001b[39m }\n",
      "]\n",
      "Type \"it\" for more\n"
     ]
    }
   ],
   "source": [
    "readString = \"db.movies.find({year:1991},{title:1,year:1,_id:0}).sort({title:1})\"\n",
    "\n",
    "!mongosh {mongoDB_connection_string} --quiet  --username {mongoDB_username} -p {mongoDB_password} \\\n",
    "--eval \"use sample_mflix\" \\\n",
    "--eval \"{readString}\""
   ]
  },
  {
   "cell_type": "code",
   "execution_count": 9,
   "metadata": {},
   "outputs": [
    {
     "name": "stdout",
     "output_type": "stream",
     "text": [
      "\u001b]0;mongosh mongodb+srv://<credentials>@devcert.6ngvd.mongodb.net/\u0007\u001b[1G\u001b[0J \u001b[1G[\n",
      "  { title: \u001b[32m'The House of Smiles'\u001b[39m, year: \u001b[33m1991\u001b[39m },\n",
      "  { title: \u001b[32m'They Call Me Macho Woman!'\u001b[39m, year: \u001b[33m1991\u001b[39m },\n",
      "  { title: \u001b[32m'Prime Suspect'\u001b[39m, year: \u001b[33m1991\u001b[39m }\n",
      "]\n"
     ]
    }
   ],
   "source": [
    "readString = \"db.movies.find({year:1991},{title:1,year:1,_id:0}).limit(3)\"\n",
    "\n",
    "!mongosh {mongoDB_connection_string} --quiet  --username {mongoDB_username} -p {mongoDB_password} \\\n",
    "--eval \"use sample_mflix\" \\\n",
    "--eval \"{readString}\""
   ]
  },
  {
   "cell_type": "code",
   "execution_count": 7,
   "metadata": {},
   "outputs": [
    {
     "name": "stdout",
     "output_type": "stream",
     "text": [
      "\u001b]0;mongosh mongodb+srv://<credentials>@devcert.6ngvd.mongodb.net/\u0007\u001b[1G\u001b[0J \u001b[1G[\n",
      "  { title: \u001b[32m'35 Up'\u001b[39m, year: \u001b[33m1991\u001b[39m },\n",
      "  { year: \u001b[33m1991\u001b[39m, title: \u001b[32m'A Brief History of Time'\u001b[39m },\n",
      "  { title: \u001b[32m'A Brighter Summer Day'\u001b[39m, year: \u001b[33m1991\u001b[39m }\n",
      "]\n"
     ]
    }
   ],
   "source": [
    "readString = \"db.movies.find({year:1991},{title:1,year:1,_id:0}).sort({title:1}).limit(3)\"\n",
    "\n",
    "!mongosh {mongoDB_connection_string} --quiet  --username {mongoDB_username} -p {mongoDB_password} \\\n",
    "--eval \"use sample_mflix\" \\\n",
    "--eval \"{readString}\""
   ]
  },
  {
   "cell_type": "code",
   "execution_count": 19,
   "metadata": {},
   "outputs": [
    {
     "name": "stdout",
     "output_type": "stream",
     "text": [
      "\u001b]0;mongosh mongodb+srv://<credentials>@devcert.6ngvd.mongodb.net/\u0007\u001b[1G\u001b[0J \u001b[1G[\n",
      "  { title: \u001b[32m'35 Up'\u001b[39m, year: \u001b[33m1991\u001b[39m },\n",
      "  { year: \u001b[33m1991\u001b[39m, title: \u001b[32m'A Brief History of Time'\u001b[39m },\n",
      "  { title: \u001b[32m'A Brighter Summer Day'\u001b[39m, year: \u001b[33m1991\u001b[39m }\n",
      "]\n"
     ]
    }
   ],
   "source": [
    "readString = \"db.movies.find({year:1991},{title:1,year:1,_id:0}).limit(3).sort({title:1})\"\n",
    "\n",
    "!mongosh {mongoDB_connection_string} --quiet  --username {mongoDB_username} -p {mongoDB_password} \\\n",
    "--eval \"use sample_mflix\" \\\n",
    "--eval \"{readString}\""
   ]
  },
  {
   "cell_type": "markdown",
   "metadata": {},
   "source": [
    "Note that the order of `sort()` and `limit()` doesn't affect the results\n",
    "\n",
    "## `Filter` Deep Dive\n",
    "\n",
    "- If multiple `{key:value}` pairs are passed into the `filter`, the behavior is a boolean `and`. \n",
    "- There are *[operators](https://www.mongodb.com/docs/manual/reference/operator/query/)* that enhance functionality of MQL. **It is imperative to know what most of the operators do to be a MongoDB certified developer**\n",
    "- The way to do a boolean `or` is via the operator  `{$or:[]}`\n",
    " \n",
    "### Operators\n",
    "\n",
    "As I just mentioned, knowing operators are important. Here is a non comprehensive list of operators:\n",
    "- `eq` - \"equal\": it is similar to a normal query\n",
    "- `$gt/$gte/$lt/$lte` - greater [and equal] / less than [and equal]: important operator for range queries\n",
    "- `{$in:[]} / {$nin:[]}` - in or not in: multiple value equality match\n",
    "- `$ne` - \"not equal\"\n",
    "- `$not`: inverses the logic of a query\n",
    "- `$or`: performs a boolean or\n",
    "- `$and`: performs a boolean and. usually used for [specific nesting situations](https://www.mongodb.com/docs/manual/reference/operator/query/and/#and-queries-with-multiple-expressions-specifying-the-same-operator)\n",
    "- `$exists`: filters based on key existence\n",
    "- `$type`: filters based on BSON type\n",
    "- `$elemMatch`: intended for querying on objects within arrays\n",
    "\n",
    "**IMPORTANT NOTE: Jupyer interprets** `$` **as a special character. so in the examples below I add a backslash before all instances of the dollar sign. We then print the query string without the backslash to help avoid confusion**\n",
    "\n",
    "Examples:"
   ]
  },
  {
   "cell_type": "code",
   "execution_count": 62,
   "metadata": {},
   "outputs": [
    {
     "name": "stdout",
     "output_type": "stream",
     "text": [
      "db.movies.find({year:1991,cast:'Brad Pitt'},{title:1,year:1,_id:0}).limit(3)\n",
      "\n",
      "\u001b]0;mongosh mongodb+srv://<credentials>@devcert.6ngvd.mongodb.net/\u0007\u001b[1G\u001b[0J \u001b[1G[ { year: \u001b[33m1991\u001b[39m, title: \u001b[32m'Johnny Suede'\u001b[39m } ]\n"
     ]
    }
   ],
   "source": [
    "readString = \"db.movies.find({year:1991,cast:'Brad Pitt'},{title:1,year:1,_id:0}).limit(3)\"\n",
    "\n",
    "print(readString.replace(\"\\\\\", \"\"))\n",
    "print(\"\")\n",
    "\n",
    "!mongosh {mongoDB_connection_string} --quiet  --username {mongoDB_username} -p {mongoDB_password} \\\n",
    "--eval \"use sample_mflix\" \\\n",
    "--eval \"\"\"{readString}\"\"\""
   ]
  },
  {
   "cell_type": "code",
   "execution_count": 63,
   "metadata": {},
   "outputs": [
    {
     "name": "stdout",
     "output_type": "stream",
     "text": [
      "db.movies.find({year:{$gt:1991}},{title:1,year:1,_id:0}).limit(3)\n",
      "\n",
      "\u001b]0;mongosh mongodb+srv://<credentials>@devcert.6ngvd.mongodb.net/\u0007\u001b[1G\u001b[0J \u001b[1G[\n",
      "  { title: \u001b[32m'Kate & Leopold'\u001b[39m, year: \u001b[33m2001\u001b[39m },\n",
      "  { title: \u001b[32m'Back to the USSR - takaisin Ryssiin'\u001b[39m, year: \u001b[33m1992\u001b[39m },\n",
      "  { title: \u001b[32m'Crime and Punishment'\u001b[39m, year: \u001b[33m2002\u001b[39m }\n",
      "]\n"
     ]
    }
   ],
   "source": [
    "readString = \"db.movies.find({year:{\\$gt:1991}},{title:1,year:1,_id:0}).limit(3)\"\n",
    "\n",
    "print(readString.replace(\"\\\\\", \"\"))\n",
    "print(\"\")\n",
    "\n",
    "!mongosh {mongoDB_connection_string} --quiet  --username {mongoDB_username} -p {mongoDB_password} \\\n",
    "--eval \"use sample_mflix\" \\\n",
    "--eval \"\"\"{readString}\"\"\""
   ]
  },
  {
   "cell_type": "code",
   "execution_count": 56,
   "metadata": {},
   "outputs": [
    {
     "name": "stdout",
     "output_type": "stream",
     "text": [
      "db.movies.find({year:{$lt:1991}},{title:1,year:1,_id:0}).limit(3)\n",
      "\n",
      "\u001b]0;mongosh mongodb+srv://<credentials>@devcert.6ngvd.mongodb.net/\u0007\u001b[1G\u001b[0J \u001b[1G[\n",
      "  {\n",
      "    title: \u001b[32m'Winsor McCay, the Famous Cartoonist of the N.Y. Herald and His Moving Comics'\u001b[39m,\n",
      "    year: \u001b[33m1911\u001b[39m\n",
      "  },\n",
      "  { title: \u001b[32m'In the Land of the Head Hunters'\u001b[39m, year: \u001b[33m1914\u001b[39m },\n",
      "  { title: \u001b[32m'The Perils of Pauline'\u001b[39m, year: \u001b[33m1914\u001b[39m }\n",
      "]\n"
     ]
    }
   ],
   "source": [
    "readString = \"db.movies.find({year:{\\$lt:1991}},{title:1,year:1,_id:0}).limit(3)\"\n",
    "\n",
    "print(readString.replace(\"\\\\\", \"\"))\n",
    "print(\"\")\n",
    "\n",
    "!mongosh {mongoDB_connection_string} --quiet  --username {mongoDB_username} -p {mongoDB_password} \\\n",
    "--eval \"use sample_mflix\" \\\n",
    "--eval \"\"\"{readString}\"\"\""
   ]
  },
  {
   "cell_type": "code",
   "execution_count": 58,
   "metadata": {},
   "outputs": [
    {
     "name": "stdout",
     "output_type": "stream",
     "text": [
      "db.movies.find({year:{$in:[1991,2001,2011]}},{title:1,year:1,_id:0}).limit(3)\n",
      "\n",
      "\u001b]0;mongosh mongodb+srv://<credentials>@devcert.6ngvd.mongodb.net/\u0007\u001b[1G\u001b[0J \u001b[1G[\n",
      "  { title: \u001b[32m'Kate & Leopold'\u001b[39m, year: \u001b[33m2001\u001b[39m },\n",
      "  { title: \u001b[32m'The House of Smiles'\u001b[39m, year: \u001b[33m1991\u001b[39m },\n",
      "  { title: \u001b[32m'They Call Me Macho Woman!'\u001b[39m, year: \u001b[33m1991\u001b[39m }\n",
      "]\n"
     ]
    }
   ],
   "source": [
    "readString = \"db.movies.find({year:{\\$in:[1991,2001,2011]}},{title:1,year:1,_id:0}).limit(3)\"\n",
    "\n",
    "print(readString.replace(\"\\\\\", \"\"))\n",
    "print(\"\")\n",
    "\n",
    "!mongosh {mongoDB_connection_string} --quiet  --username {mongoDB_username} -p {mongoDB_password} \\\n",
    "--eval \"use sample_mflix\" \\\n",
    "--eval \"\"\"{readString}\"\"\""
   ]
  },
  {
   "cell_type": "code",
   "execution_count": 64,
   "metadata": {},
   "outputs": [
    {
     "name": "stdout",
     "output_type": "stream",
     "text": [
      "db.movies.find({year:{$ne:1991}},{title:1,year:1,_id:0}).limit(3)\n",
      "\n",
      "\u001b]0;mongosh mongodb+srv://<credentials>@devcert.6ngvd.mongodb.net/\u0007\u001b[1G\u001b[0J \u001b[1G[\n",
      "  {\n",
      "    title: \u001b[32m'Winsor McCay, the Famous Cartoonist of the N.Y. Herald and His Moving Comics'\u001b[39m,\n",
      "    year: \u001b[33m1911\u001b[39m\n",
      "  },\n",
      "  { title: \u001b[32m'In the Land of the Head Hunters'\u001b[39m, year: \u001b[33m1914\u001b[39m },\n",
      "  { title: \u001b[32m'The Perils of Pauline'\u001b[39m, year: \u001b[33m1914\u001b[39m }\n",
      "]\n"
     ]
    }
   ],
   "source": [
    "readString = \"db.movies.find({year:{\\$ne:1991}},{title:1,year:1,_id:0}).limit(3)\"\n",
    "\n",
    "print(readString.replace(\"\\\\\", \"\"))\n",
    "print(\"\")\n",
    "\n",
    "!mongosh {mongoDB_connection_string} --quiet  --username {mongoDB_username} -p {mongoDB_password} \\\n",
    "--eval \"use sample_mflix\" \\\n",
    "--eval \"\"\"{readString}\"\"\""
   ]
  },
  {
   "cell_type": "code",
   "execution_count": 67,
   "metadata": {},
   "outputs": [
    {
     "name": "stdout",
     "output_type": "stream",
     "text": [
      "db.movies.find({$or:[{year:1920},{runtime:100}]},{title:1,year:1,runtime:1,_id:0}).limit(3)\n",
      "\n",
      "\u001b]0;mongosh mongodb+srv://<credentials>@devcert.6ngvd.mongodb.net/\u0007\u001b[1G\u001b[0J \u001b[1G[\n",
      "  { runtime: \u001b[33m100\u001b[39m, title: \u001b[32m'Tarzan the Ape Man'\u001b[39m, year: \u001b[33m1932\u001b[39m },\n",
      "  { runtime: \u001b[33m26\u001b[39m, title: \u001b[32m'High and Dizzy'\u001b[39m, year: \u001b[33m1920\u001b[39m },\n",
      "  { runtime: \u001b[33m100\u001b[39m, title: \u001b[32m'Dekigokoro'\u001b[39m, year: \u001b[33m1933\u001b[39m }\n",
      "]\n"
     ]
    }
   ],
   "source": [
    "readString = \"db.movies.find({\\$or:[{year:1920},{runtime:100}]},{title:1,year:1,runtime:1,_id:0}).limit(3)\"\n",
    "\n",
    "print(readString.replace(\"\\\\\", \"\"))\n",
    "print(\"\")\n",
    "\n",
    "!mongosh {mongoDB_connection_string} --quiet  --username {mongoDB_username} -p {mongoDB_password} \\\n",
    "--eval \"use sample_mflix\" \\\n",
    "--eval \"\"\"{readString}\"\"\""
   ]
  },
  {
   "cell_type": "code",
   "execution_count": 74,
   "metadata": {
    "scrolled": true
   },
   "outputs": [
    {
     "name": "stdout",
     "output_type": "stream",
     "text": [
      "db.movies.findOne({'runtime':{$exists:false}},{title:1,year:1,_id:0})\n",
      "\n",
      "\u001b]0;mongosh mongodb+srv://<credentials>@devcert.6ngvd.mongodb.net/\u0007\u001b[1G\u001b[0J \u001b[1G{ title: \u001b[32m'Mi adorado Juan'\u001b[39m, year: \u001b[33m1950\u001b[39m }\n"
     ]
    }
   ],
   "source": [
    "readString = \"db.movies.findOne({'runtime':{\\$exists:false}},{title:1,year:1,_id:0})\"\n",
    "\n",
    "print(readString.replace(\"\\\\\", \"\"))\n",
    "print(\"\")\n",
    "\n",
    "!mongosh {mongoDB_connection_string} --quiet  --username {mongoDB_username} -p {mongoDB_password} \\\n",
    "--eval \"use sample_mflix\" \\\n",
    "--eval \"\"\"{readString}\"\"\""
   ]
  },
  {
   "cell_type": "code",
   "execution_count": 75,
   "metadata": {},
   "outputs": [
    {
     "name": "stdout",
     "output_type": "stream",
     "text": [
      "db.movies.findOne({'_id':{$type:'objectId'}},{title:1,year:1,_id:0})\n",
      "\n",
      "\u001b]0;mongosh mongodb+srv://<credentials>@devcert.6ngvd.mongodb.net/\u0007\u001b[1G\u001b[0J \u001b[1G{ title: \u001b[32m'The Great Train Robbery'\u001b[39m, year: \u001b[33m1903\u001b[39m }\n"
     ]
    }
   ],
   "source": [
    "readString = \"db.movies.findOne({'_id':{\\$type:'objectId'}},{title:1,year:1,_id:0})\"\n",
    "\n",
    "print(readString.replace(\"\\\\\", \"\"))\n",
    "print(\"\")\n",
    "\n",
    "!mongosh {mongoDB_connection_string} --quiet  --username {mongoDB_username} -p {mongoDB_password} \\\n",
    "--eval \"use sample_mflix\" \\\n",
    "--eval \"\"\"{readString}\"\"\""
   ]
  },
  {
   "cell_type": "markdown",
   "metadata": {},
   "source": [
    "## Filtering on Arrays and Sub Documents\n",
    "\n",
    "Oftentimes, you will be filtering on keys that aren't a value, but a data structure like an array or a subdocument. The `sample_mflix.movies` collection has some examples of this:"
   ]
  },
  {
   "cell_type": "code",
   "execution_count": 82,
   "metadata": {},
   "outputs": [
    {
     "name": "stdout",
     "output_type": "stream",
     "text": [
      "db.movies.findOne({title:'Groundhog Day'},{title:1,year:1,_id:0, genres:1})\n",
      "\n",
      "\u001b]0;mongosh mongodb+srv://<credentials>@devcert.6ngvd.mongodb.net/\u0007\u001b[1G\u001b[0J \u001b[1G{ year: \u001b[33m1993\u001b[39m, genres: [ \u001b[32m'Comedy'\u001b[39m, \u001b[32m'Romance'\u001b[39m ], title: \u001b[32m'Groundhog Day'\u001b[39m }\n"
     ]
    }
   ],
   "source": [
    "# array of scalars: genres\n",
    "readString = \"db.movies.findOne({title:'Groundhog Day'},{title:1,year:1,_id:0, genres:1})\"\n",
    "\n",
    "print(readString.replace(\"\\\\\", \"\"))\n",
    "print(\"\")\n",
    "\n",
    "!mongosh {mongoDB_connection_string} --quiet  --username {mongoDB_username} -p {mongoDB_password} \\\n",
    "--eval \"use sample_mflix\" \\\n",
    "--eval \"\"\"{readString}\"\"\""
   ]
  },
  {
   "cell_type": "code",
   "execution_count": 78,
   "metadata": {},
   "outputs": [
    {
     "name": "stdout",
     "output_type": "stream",
     "text": [
      "db.movies.findOne({title:'Groundhog Day'},{title:1,year:1,_id:0, tomatoes:1})\n",
      "\n",
      "\u001b]0;mongosh mongodb+srv://<credentials>@devcert.6ngvd.mongodb.net/\u0007\u001b[1G\u001b[0J \u001b[1G{\n",
      "  year: \u001b[33m1993\u001b[39m,\n",
      "  title: \u001b[32m'Groundhog Day'\u001b[39m,\n",
      "  tomatoes: {\n",
      "    viewer: { rating: \u001b[33m3.4\u001b[39m, numReviews: \u001b[33m413200\u001b[39m, meter: \u001b[33m87\u001b[39m },\n",
      "    dvd: ISODate(\"2002-01-29T00:00:00.000Z\"),\n",
      "    critic: { rating: \u001b[33m8\u001b[39m, numReviews: \u001b[33m71\u001b[39m, meter: \u001b[33m96\u001b[39m },\n",
      "    lastUpdated: ISODate(\"2015-09-12T17:28:16.000Z\"),\n",
      "    consensus: \u001b[32m\"Smart, sweet, and inventive, Groundhog Day highlights Murray's dramatic gifts while still leaving plenty of room for laughs.\"\u001b[39m,\n",
      "    rotten: \u001b[33m3\u001b[39m,\n",
      "    production: \u001b[32m'Columbia Pictures'\u001b[39m,\n",
      "    fresh: \u001b[33m68\u001b[39m\n",
      "  }\n",
      "}\n"
     ]
    }
   ],
   "source": [
    "# subdocument within subdocument: tomatoes.viewer & tomatoes.critic\n",
    "readString = \"db.movies.findOne({title:'Groundhog Day'},{title:1,year:1,_id:0, tomatoes:1})\"\n",
    "\n",
    "print(readString.replace(\"\\\\\", \"\"))\n",
    "print(\"\")\n",
    "\n",
    "!mongosh {mongoDB_connection_string} --quiet  --username {mongoDB_username} -p {mongoDB_password} \\\n",
    "--eval \"use sample_mflix\" \\\n",
    "--eval \"\"\"{readString}\"\"\""
   ]
  },
  {
   "cell_type": "markdown",
   "metadata": {},
   "source": [
    "Another sample data collection that has some great examples of nested structures is `sample_supplies.sales`. These documents generally have a structure which is: array of objects, and each object has it's own associated array:"
   ]
  },
  {
   "cell_type": "code",
   "execution_count": 79,
   "metadata": {},
   "outputs": [
    {
     "name": "stdout",
     "output_type": "stream",
     "text": [
      "db.sales.findOne({})\n",
      "\n",
      "\u001b]0;mongosh mongodb+srv://<credentials>@devcert.6ngvd.mongodb.net/\u0007\u001b[1G\u001b[0J \u001b[1G{\n",
      "  _id: ObjectId(\"5bd761dcae323e45a93ccfea\"),\n",
      "  saleDate: ISODate(\"2017-06-22T09:54:14.185Z\"),\n",
      "  items: [\n",
      "    {\n",
      "      name: \u001b[32m'notepad'\u001b[39m,\n",
      "      tags: [ \u001b[32m'office'\u001b[39m, \u001b[32m'writing'\u001b[39m, \u001b[32m'school'\u001b[39m ],\n",
      "      price: Decimal128(\"30.08\"),\n",
      "      quantity: \u001b[33m1\u001b[39m\n",
      "    },\n",
      "    {\n",
      "      name: \u001b[32m'binder'\u001b[39m,\n",
      "      tags: [ \u001b[32m'school'\u001b[39m, \u001b[32m'general'\u001b[39m, \u001b[32m'organization'\u001b[39m ],\n",
      "      price: Decimal128(\"24.68\"),\n",
      "      quantity: \u001b[33m7\u001b[39m\n",
      "    },\n",
      "    {\n",
      "      name: \u001b[32m'notepad'\u001b[39m,\n",
      "      tags: [ \u001b[32m'office'\u001b[39m, \u001b[32m'writing'\u001b[39m, \u001b[32m'school'\u001b[39m ],\n",
      "      price: Decimal128(\"32.1\"),\n",
      "      quantity: \u001b[33m4\u001b[39m\n",
      "    },\n",
      "    {\n",
      "      name: \u001b[32m'pens'\u001b[39m,\n",
      "      tags: [ \u001b[32m'writing'\u001b[39m, \u001b[32m'office'\u001b[39m, \u001b[32m'school'\u001b[39m, \u001b[32m'stationary'\u001b[39m ],\n",
      "      price: Decimal128(\"31.41\"),\n",
      "      quantity: \u001b[33m3\u001b[39m\n",
      "    },\n",
      "    {\n",
      "      name: \u001b[32m'printer paper'\u001b[39m,\n",
      "      tags: [ \u001b[32m'office'\u001b[39m, \u001b[32m'stationary'\u001b[39m ],\n",
      "      price: Decimal128(\"43.56\"),\n",
      "      quantity: \u001b[33m3\u001b[39m\n",
      "    },\n",
      "    {\n",
      "      name: \u001b[32m'pens'\u001b[39m,\n",
      "      tags: [ \u001b[32m'writing'\u001b[39m, \u001b[32m'office'\u001b[39m, \u001b[32m'school'\u001b[39m, \u001b[32m'stationary'\u001b[39m ],\n",
      "      price: Decimal128(\"68.95\"),\n",
      "      quantity: \u001b[33m4\u001b[39m\n",
      "    },\n",
      "    {\n",
      "      name: \u001b[32m'notepad'\u001b[39m,\n",
      "      tags: [ \u001b[32m'office'\u001b[39m, \u001b[32m'writing'\u001b[39m, \u001b[32m'school'\u001b[39m ],\n",
      "      price: Decimal128(\"8.57\"),\n",
      "      quantity: \u001b[33m4\u001b[39m\n",
      "    },\n",
      "    {\n",
      "      name: \u001b[32m'backpack'\u001b[39m,\n",
      "      tags: [ \u001b[32m'school'\u001b[39m, \u001b[32m'travel'\u001b[39m, \u001b[32m'kids'\u001b[39m ],\n",
      "      price: Decimal128(\"106.6\"),\n",
      "      quantity: \u001b[33m2\u001b[39m\n",
      "    },\n",
      "    {\n",
      "      name: \u001b[32m'laptop'\u001b[39m,\n",
      "      tags: [ \u001b[32m'electronics'\u001b[39m, \u001b[32m'school'\u001b[39m, \u001b[32m'office'\u001b[39m ],\n",
      "      price: Decimal128(\"596.33\"),\n",
      "      quantity: \u001b[33m4\u001b[39m\n",
      "    }\n",
      "  ],\n",
      "  storeLocation: \u001b[32m'Denver'\u001b[39m,\n",
      "  customer: { gender: \u001b[32m'M'\u001b[39m, age: \u001b[33m51\u001b[39m, email: \u001b[32m'worbiduh@vowbu.cg'\u001b[39m, satisfaction: \u001b[33m5\u001b[39m },\n",
      "  couponUsed: \u001b[33mfalse\u001b[39m,\n",
      "  purchaseMethod: \u001b[32m'In store'\u001b[39m\n",
      "}\n"
     ]
    }
   ],
   "source": [
    "readString = \"db.sales.findOne({})\"\n",
    "\n",
    "print(readString.replace(\"\\\\\", \"\"))\n",
    "print(\"\")\n",
    "\n",
    "!mongosh {mongoDB_connection_string} --quiet  --username {mongoDB_username} -p {mongoDB_password} \\\n",
    "--eval \"use sample_supplies\" \\\n",
    "--eval \"\"\"{readString}\"\"\""
   ]
  },
  {
   "cell_type": "markdown",
   "metadata": {},
   "source": [
    "**concepts related to querying these shapes**\n",
    "- for sub documents, use \"parent.child.granchild\" syntax.\n",
    "- scalar queries against array fields look for *existence*\n",
    "- array queries against array fields look for array equality\n",
    "- `$elemMatch` will be important here. We'll look in a sec"
   ]
  },
  {
   "cell_type": "code",
   "execution_count": 81,
   "metadata": {},
   "outputs": [
    {
     "name": "stdout",
     "output_type": "stream",
     "text": [
      "db.movies.findOne({'tomatoes.viewer.rating':3.4},{title:1,year:1,_id:0, tomatoes:1})\n",
      "\n",
      "\u001b]0;mongosh mongodb+srv://<credentials>@devcert.6ngvd.mongodb.net/\u0007\u001b[1G\u001b[0J \u001b[1G{\n",
      "  title: \u001b[32m'Winsor McCay, the Famous Cartoonist of the N.Y. Herald and His Moving Comics'\u001b[39m,\n",
      "  year: \u001b[33m1911\u001b[39m,\n",
      "  tomatoes: {\n",
      "    viewer: { rating: \u001b[33m3.4\u001b[39m, numReviews: \u001b[33m89\u001b[39m, meter: \u001b[33m47\u001b[39m },\n",
      "    lastUpdated: ISODate(\"2015-08-20T18:51:24.000Z\")\n",
      "  }\n",
      "}\n"
     ]
    }
   ],
   "source": [
    "# filtering on subdocument\n",
    "readString = \"db.movies.findOne({'tomatoes.viewer.rating':3.4},{title:1,year:1,_id:0, tomatoes:1})\"\n",
    "\n",
    "print(readString.replace(\"\\\\\", \"\"))\n",
    "print(\"\")\n",
    "\n",
    "!mongosh {mongoDB_connection_string} --quiet  --username {mongoDB_username} -p {mongoDB_password} \\\n",
    "--eval \"use sample_mflix\" \\\n",
    "--eval \"\"\"{readString}\"\"\""
   ]
  },
  {
   "cell_type": "code",
   "execution_count": 84,
   "metadata": {},
   "outputs": [
    {
     "name": "stdout",
     "output_type": "stream",
     "text": [
      "db.movies.findOne({genres:'Comedy'},{title:1,year:1,_id:0, genres:1})\n",
      "\n",
      "\u001b]0;mongosh mongodb+srv://<credentials>@devcert.6ngvd.mongodb.net/\u0007\u001b[1G\u001b[0J \u001b[1G{\n",
      "  genres: [ \u001b[32m'Animation'\u001b[39m, \u001b[32m'Short'\u001b[39m, \u001b[32m'Comedy'\u001b[39m ],\n",
      "  title: \u001b[32m'Winsor McCay, the Famous Cartoonist of the N.Y. Herald and His Moving Comics'\u001b[39m,\n",
      "  year: \u001b[33m1911\u001b[39m\n",
      "}\n"
     ]
    }
   ],
   "source": [
    "# array existence\n",
    "readString = \"db.movies.findOne({genres:'Comedy'},{title:1,year:1,_id:0, genres:1})\"\n",
    "\n",
    "print(readString.replace(\"\\\\\", \"\"))\n",
    "print(\"\")\n",
    "\n",
    "!mongosh {mongoDB_connection_string} --quiet  --username {mongoDB_username} -p {mongoDB_password} \\\n",
    "--eval \"use sample_mflix\" \\\n",
    "--eval \"\"\"{readString}\"\"\""
   ]
  },
  {
   "cell_type": "code",
   "execution_count": 85,
   "metadata": {},
   "outputs": [
    {
     "name": "stdout",
     "output_type": "stream",
     "text": [
      "db.movies.findOne({genres:['Comedy']},{title:1,year:1,_id:0, genres:1})\n",
      "\n",
      "\u001b]0;mongosh mongodb+srv://<credentials>@devcert.6ngvd.mongodb.net/\u0007\u001b[1G\u001b[0J \u001b[1G{ genres: [ \u001b[32m'Comedy'\u001b[39m ], title: \u001b[32m'The Strong Man'\u001b[39m, year: \u001b[33m1926\u001b[39m }\n"
     ]
    }
   ],
   "source": [
    "# array equality\n",
    "readString = \"db.movies.findOne({genres:['Comedy']},{title:1,year:1,_id:0, genres:1})\"\n",
    "\n",
    "print(readString.replace(\"\\\\\", \"\"))\n",
    "print(\"\")\n",
    "\n",
    "!mongosh {mongoDB_connection_string} --quiet  --username {mongoDB_username} -p {mongoDB_password} \\\n",
    "--eval \"use sample_mflix\" \\\n",
    "--eval \"\"\"{readString}\"\"\""
   ]
  },
  {
   "cell_type": "markdown",
   "metadata": {},
   "source": [
    "**... on `$elemMatch`**\n",
    "- `$elemMatch` is a special operator for multi-key filtering among arrays of subdocuments\n",
    "- consider the following query:"
   ]
  },
  {
   "cell_type": "code",
   "execution_count": 95,
   "metadata": {},
   "outputs": [
    {
     "name": "stdout",
     "output_type": "stream",
     "text": [
      "db.sales.findOne({'items.name':'binder','items.quantity':{$gt:7}})\n",
      "\n",
      "\u001b]0;mongosh mongodb+srv://<credentials>@devcert.6ngvd.mongodb.net/\u0007\u001b[1G\u001b[0J \u001b[1G{\n",
      "  _id: ObjectId(\"5bd761dcae323e45a93ccff6\"),\n",
      "  saleDate: ISODate(\"2017-08-21T20:38:34.618Z\"),\n",
      "  items: [\n",
      "    {\n",
      "      name: \u001b[32m'printer paper'\u001b[39m,\n",
      "      tags: [ \u001b[32m'office'\u001b[39m, \u001b[32m'stationary'\u001b[39m ],\n",
      "      price: Decimal128(\"14.96\"),\n",
      "      quantity: \u001b[33m10\u001b[39m\n",
      "    },\n",
      "    {\n",
      "      name: \u001b[32m'laptop'\u001b[39m,\n",
      "      tags: [ \u001b[32m'electronics'\u001b[39m, \u001b[32m'school'\u001b[39m, \u001b[32m'office'\u001b[39m ],\n",
      "      price: Decimal128(\"1223.33\"),\n",
      "      quantity: \u001b[33m1\u001b[39m\n",
      "    },\n",
      "    {\n",
      "      name: \u001b[32m'notepad'\u001b[39m,\n",
      "      tags: [ \u001b[32m'office'\u001b[39m, \u001b[32m'writing'\u001b[39m, \u001b[32m'school'\u001b[39m ],\n",
      "      price: Decimal128(\"18.09\"),\n",
      "      quantity: \u001b[33m3\u001b[39m\n",
      "    },\n",
      "    {\n",
      "      name: \u001b[32m'notepad'\u001b[39m,\n",
      "      tags: [ \u001b[32m'office'\u001b[39m, \u001b[32m'writing'\u001b[39m, \u001b[32m'school'\u001b[39m ],\n",
      "      price: Decimal128(\"25.15\"),\n",
      "      quantity: \u001b[33m3\u001b[39m\n",
      "    },\n",
      "    {\n",
      "      name: \u001b[32m'pens'\u001b[39m,\n",
      "      tags: [ \u001b[32m'writing'\u001b[39m, \u001b[32m'office'\u001b[39m, \u001b[32m'school'\u001b[39m, \u001b[32m'stationary'\u001b[39m ],\n",
      "      price: Decimal128(\"47.36\"),\n",
      "      quantity: \u001b[33m2\u001b[39m\n",
      "    },\n",
      "    {\n",
      "      name: \u001b[32m'notepad'\u001b[39m,\n",
      "      tags: [ \u001b[32m'office'\u001b[39m, \u001b[32m'writing'\u001b[39m, \u001b[32m'school'\u001b[39m ],\n",
      "      price: Decimal128(\"11.5\"),\n",
      "      quantity: \u001b[33m5\u001b[39m\n",
      "    },\n",
      "    {\n",
      "      name: \u001b[32m'binder'\u001b[39m,\n",
      "      tags: [ \u001b[32m'school'\u001b[39m, \u001b[32m'general'\u001b[39m, \u001b[32m'organization'\u001b[39m ],\n",
      "      price: Decimal128(\"23.24\"),\n",
      "      quantity: \u001b[33m6\u001b[39m\n",
      "    },\n",
      "    {\n",
      "      name: \u001b[32m'envelopes'\u001b[39m,\n",
      "      tags: [ \u001b[32m'stationary'\u001b[39m, \u001b[32m'office'\u001b[39m, \u001b[32m'general'\u001b[39m ],\n",
      "      price: Decimal128(\"5.68\"),\n",
      "      quantity: \u001b[33m8\u001b[39m\n",
      "    }\n",
      "  ],\n",
      "  storeLocation: \u001b[32m'San Diego'\u001b[39m,\n",
      "  customer: { gender: \u001b[32m'F'\u001b[39m, age: \u001b[33m36\u001b[39m, email: \u001b[32m'gul@waija.nz'\u001b[39m, satisfaction: \u001b[33m5\u001b[39m },\n",
      "  couponUsed: \u001b[33mfalse\u001b[39m,\n",
      "  purchaseMethod: \u001b[32m'Online'\u001b[39m\n",
      "}\n"
     ]
    }
   ],
   "source": [
    "readString = \"db.sales.findOne({'items.name':'binder','items.quantity':{\\$gt:7}})\"\n",
    "\n",
    "print(readString.replace(\"\\\\\", \"\"))\n",
    "print(\"\")\n",
    "\n",
    "!mongosh {mongoDB_connection_string} --quiet  --username {mongoDB_username} -p {mongoDB_password} \\\n",
    "--eval \"use sample_supplies\" \\\n",
    "--eval \"\"\"{readString}\"\"\""
   ]
  },
  {
   "cell_type": "markdown",
   "metadata": {},
   "source": [
    "At first glance, it looks like I am trying to filter on a sale where in the line items is a sale of greater than 7 binders. However, the above result returned, which doesn't include a sale of greate than 7 or binders. This is becuase the way the query is interpreted, it is looking for array existence. so any array that has a value of `name:binder` and `quantity:$gt:7` is returned.\n",
    "\n",
    "This is where `$elemMatch` comes in. look at this query:"
   ]
  },
  {
   "cell_type": "code",
   "execution_count": 96,
   "metadata": {},
   "outputs": [
    {
     "name": "stdout",
     "output_type": "stream",
     "text": [
      "db.sales.findOne({items:{$elemMatch:{name:'binder',quantity:{$gt:7}}}})\n",
      "\n",
      "\u001b]0;mongosh mongodb+srv://<credentials>@devcert.6ngvd.mongodb.net/\u0007\u001b[1G\u001b[0J \u001b[1G{\n",
      "  _id: ObjectId(\"5bd761dcae323e45a93ccff9\"),\n",
      "  saleDate: ISODate(\"2017-11-12T20:30:15.045Z\"),\n",
      "  items: [\n",
      "    {\n",
      "      name: \u001b[32m'notepad'\u001b[39m,\n",
      "      tags: [ \u001b[32m'office'\u001b[39m, \u001b[32m'writing'\u001b[39m, \u001b[32m'school'\u001b[39m ],\n",
      "      price: Decimal128(\"9.91\"),\n",
      "      quantity: \u001b[33m3\u001b[39m\n",
      "    },\n",
      "    {\n",
      "      name: \u001b[32m'pens'\u001b[39m,\n",
      "      tags: [ \u001b[32m'writing'\u001b[39m, \u001b[32m'office'\u001b[39m, \u001b[32m'school'\u001b[39m, \u001b[32m'stationary'\u001b[39m ],\n",
      "      price: Decimal128(\"22.01\"),\n",
      "      quantity: \u001b[33m4\u001b[39m\n",
      "    },\n",
      "    {\n",
      "      name: \u001b[32m'backpack'\u001b[39m,\n",
      "      tags: [ \u001b[32m'school'\u001b[39m, \u001b[32m'travel'\u001b[39m, \u001b[32m'kids'\u001b[39m ],\n",
      "      price: Decimal128(\"57.14\"),\n",
      "      quantity: \u001b[33m2\u001b[39m\n",
      "    },\n",
      "    {\n",
      "      name: \u001b[32m'binder'\u001b[39m,\n",
      "      tags: [ \u001b[32m'school'\u001b[39m, \u001b[32m'general'\u001b[39m, \u001b[32m'organization'\u001b[39m ],\n",
      "      price: Decimal128(\"21.92\"),\n",
      "      quantity: \u001b[33m7\u001b[39m\n",
      "    },\n",
      "    {\n",
      "      name: \u001b[32m'binder'\u001b[39m,\n",
      "      tags: [ \u001b[32m'school'\u001b[39m, \u001b[32m'general'\u001b[39m, \u001b[32m'organization'\u001b[39m ],\n",
      "      price: Decimal128(\"20.12\"),\n",
      "      quantity: \u001b[33m9\u001b[39m\n",
      "    },\n",
      "    {\n",
      "      name: \u001b[32m'laptop'\u001b[39m,\n",
      "      tags: [ \u001b[32m'electronics'\u001b[39m, \u001b[32m'school'\u001b[39m, \u001b[32m'office'\u001b[39m ],\n",
      "      price: Decimal128(\"1541.76\"),\n",
      "      quantity: \u001b[33m3\u001b[39m\n",
      "    },\n",
      "    {\n",
      "      name: \u001b[32m'printer paper'\u001b[39m,\n",
      "      tags: [ \u001b[32m'office'\u001b[39m, \u001b[32m'stationary'\u001b[39m ],\n",
      "      price: Decimal128(\"45.86\"),\n",
      "      quantity: \u001b[33m6\u001b[39m\n",
      "    }\n",
      "  ],\n",
      "  storeLocation: \u001b[32m'London'\u001b[39m,\n",
      "  customer: { gender: \u001b[32m'F'\u001b[39m, age: \u001b[33m50\u001b[39m, email: \u001b[32m'velo@nukav.fr'\u001b[39m, satisfaction: \u001b[33m5\u001b[39m },\n",
      "  couponUsed: \u001b[33mfalse\u001b[39m,\n",
      "  purchaseMethod: \u001b[32m'In store'\u001b[39m\n",
      "}\n"
     ]
    }
   ],
   "source": [
    "readString = \"db.sales.findOne({items:{\\$elemMatch:{name:'binder',quantity:{\\$gt:7}}}})\"\n",
    "\n",
    "print(readString.replace(\"\\\\\", \"\"))\n",
    "print(\"\")\n",
    "\n",
    "!mongosh {mongoDB_connection_string} --quiet  --username {mongoDB_username} -p {mongoDB_password} \\\n",
    "--eval \"use sample_supplies\" \\\n",
    "--eval \"\"\"{readString}\"\"\""
   ]
  },
  {
   "cell_type": "markdown",
   "metadata": {},
   "source": [
    "The above query only returns due to the line item that has `name:binder` and `quantity:9`"
   ]
  },
  {
   "cell_type": "markdown",
   "metadata": {},
   "source": [
    "## `countDocuments()`\n",
    "\n",
    "One other query to be aware of is `db.collection.countDocuments({filter})`\n",
    "\n",
    "it accepts all of the filters we've shown above, however the result is simply an integer which represents how many documents would be returned by the query\n",
    "\n",
    "**This is the new version of MDB legacy `db.collection.count({})`. `count()` is deprecated. This will probably come up on the exam**"
   ]
  },
  {
   "cell_type": "code",
   "execution_count": 97,
   "metadata": {},
   "outputs": [
    {
     "name": "stdout",
     "output_type": "stream",
     "text": [
      "db.movies.countDocuments({'runtime':{$exists:false}})\n",
      "\n",
      "\u001b]0;mongosh mongodb+srv://<credentials>@devcert.6ngvd.mongodb.net/\u0007\u001b[1G\u001b[0J \u001b[1G\u001b[33m439\u001b[39m\n"
     ]
    }
   ],
   "source": [
    "readString = \"db.movies.countDocuments({'runtime':{\\$exists:false}})\"\n",
    "\n",
    "print(readString.replace(\"\\\\\", \"\"))\n",
    "print(\"\")\n",
    "\n",
    "!mongosh {mongoDB_connection_string} --quiet  --username {mongoDB_username} -p {mongoDB_password} \\\n",
    "--eval \"use sample_mflix\" \\\n",
    "--eval \"\"\"{readString}\"\"\""
   ]
  },
  {
   "cell_type": "markdown",
   "metadata": {},
   "source": [
    "## Deletes\n",
    "\n",
    "Deletes are basically like `find`s in that they accept a filter a parameter. The difference is instead of returning documents, delete will.... delete them (believe it or not)\n",
    "\n",
    "2 main delete interfaces:\n",
    "- `db.collection.deleteOne({filter},{options})`\n",
    "- `db.collection.deleteMany({filter},{options})`\n",
    "\n",
    "Options include things like write concern (a mongoDB parameter for durability / performance tradeoffs) collation (for language support) and hint (index hinting)\n",
    "\n",
    "I won't spend too long here because we just spent so much time with filters and operators"
   ]
  },
  {
   "cell_type": "code",
   "execution_count": 109,
   "metadata": {},
   "outputs": [
    {
     "name": "stdout",
     "output_type": "stream",
     "text": [
      "\u001b]0;mongosh mongodb+srv://<credentials>@devcert.6ngvd.mongodb.net/\u0007\u001b[1G\u001b[0J \u001b[1G{\n",
      "  acknowledged: \u001b[33mtrue\u001b[39m,\n",
      "  insertedIds: {\n",
      "    \u001b[32m'0'\u001b[39m: ObjectId(\"64d3d14a4652eacdd2a8076e\"),\n",
      "    \u001b[32m'1'\u001b[39m: ObjectId(\"64d3d14a4652eacdd2a8076f\"),\n",
      "    \u001b[32m'2'\u001b[39m: ObjectId(\"64d3d14a4652eacdd2a80770\"),\n",
      "    \u001b[32m'3'\u001b[39m: ObjectId(\"64d3d14a4652eacdd2a80771\"),\n",
      "    \u001b[32m'4'\u001b[39m: ObjectId(\"64d3d14a4652eacdd2a80772\")\n",
      "  }\n",
      "}\n"
     ]
    }
   ],
   "source": [
    "# inserting docs to Delete\n",
    "insertString = \"db.testCollection2.insertMany([{a:1},{a:2},{a:3},{a:4},{a:5}])\"\n",
    "deleteString = \"db.testCollection2.deleteMany({})\"\n",
    "\n",
    "!mongosh {mongoDB_connection_string} --quiet  --username {mongoDB_username} -p {mongoDB_password} \\\n",
    "--eval \"use testDb\" \\\n",
    "--eval \"{deleteString}\" \\\n",
    "--eval \"{insertString}\""
   ]
  },
  {
   "cell_type": "code",
   "execution_count": 110,
   "metadata": {},
   "outputs": [
    {
     "name": "stdout",
     "output_type": "stream",
     "text": [
      "\u001b]0;mongosh mongodb+srv://<credentials>@devcert.6ngvd.mongodb.net/\u0007\u001b[1G\u001b[0J \u001b[1G{ acknowledged: \u001b[33mtrue\u001b[39m, deletedCount: \u001b[33m1\u001b[39m }\n"
     ]
    }
   ],
   "source": [
    "# deleteOne\n",
    "deleteString = \"db.testCollection2.deleteOne({a:1})\"\n",
    "\n",
    "!mongosh {mongoDB_connection_string} --quiet  --username {mongoDB_username} -p {mongoDB_password} \\\n",
    "--eval \"use testDb\" \\\n",
    "--eval \"{deleteString}\""
   ]
  },
  {
   "cell_type": "code",
   "execution_count": 111,
   "metadata": {},
   "outputs": [
    {
     "name": "stdout",
     "output_type": "stream",
     "text": [
      "\u001b]0;mongosh mongodb+srv://<credentials>@devcert.6ngvd.mongodb.net/\u0007\u001b[1G\u001b[0J \u001b[1G{ acknowledged: \u001b[33mtrue\u001b[39m, deletedCount: \u001b[33m0\u001b[39m }\n"
     ]
    }
   ],
   "source": [
    "# deleteOne\n",
    "deleteString = \"db.testCollection2.deleteOne({a:6})\"\n",
    "\n",
    "!mongosh {mongoDB_connection_string} --quiet  --username {mongoDB_username} -p {mongoDB_password} \\\n",
    "--eval \"use testDb\" \\\n",
    "--eval \"{deleteString}\""
   ]
  },
  {
   "cell_type": "code",
   "execution_count": 112,
   "metadata": {},
   "outputs": [
    {
     "name": "stdout",
     "output_type": "stream",
     "text": [
      "\u001b]0;mongosh mongodb+srv://<credentials>@devcert.6ngvd.mongodb.net/\u0007\u001b[1G\u001b[0J \u001b[1G[\n",
      "  { _id: ObjectId(\"64d3d14a4652eacdd2a8076f\"), a: \u001b[33m2\u001b[39m },\n",
      "  { _id: ObjectId(\"64d3d14a4652eacdd2a80770\"), a: \u001b[33m3\u001b[39m },\n",
      "  { _id: ObjectId(\"64d3d14a4652eacdd2a80771\"), a: \u001b[33m4\u001b[39m },\n",
      "  { _id: ObjectId(\"64d3d14a4652eacdd2a80772\"), a: \u001b[33m5\u001b[39m }\n",
      "]\n"
     ]
    }
   ],
   "source": [
    "findString = \"db.testCollection2.find({})\"\n",
    "\n",
    "!mongosh {mongoDB_connection_string} --quiet  --username {mongoDB_username} -p {mongoDB_password} \\\n",
    "--eval \"use testDb\" \\\n",
    "--eval \"{findString}\""
   ]
  },
  {
   "cell_type": "code",
   "execution_count": 113,
   "metadata": {
    "scrolled": true
   },
   "outputs": [
    {
     "name": "stdout",
     "output_type": "stream",
     "text": [
      "db.testCollection2.deleteOne({a:{$lte:5}})\n",
      "\n",
      "\u001b]0;mongosh mongodb+srv://<credentials>@devcert.6ngvd.mongodb.net/\u0007\u001b[1G\u001b[0J \u001b[1G{ acknowledged: \u001b[33mtrue\u001b[39m, deletedCount: \u001b[33m1\u001b[39m }\n"
     ]
    }
   ],
   "source": [
    "# deleteOne\n",
    "deleteString = \"db.testCollection2.deleteOne({a:{\\$lte:5}})\"\n",
    "\n",
    "print(deleteString.replace(\"\\\\\", \"\"))\n",
    "print(\"\")\n",
    "\n",
    "!mongosh {mongoDB_connection_string} --quiet  --username {mongoDB_username} -p {mongoDB_password} \\\n",
    "--eval \"use testDb\" \\\n",
    "--eval \"{deleteString}\""
   ]
  },
  {
   "cell_type": "code",
   "execution_count": null,
   "metadata": {},
   "outputs": [],
   "source": [
    "#comment on natural order"
   ]
  },
  {
   "cell_type": "code",
   "execution_count": 114,
   "metadata": {},
   "outputs": [
    {
     "name": "stdout",
     "output_type": "stream",
     "text": [
      "\u001b]0;mongosh mongodb+srv://<credentials>@devcert.6ngvd.mongodb.net/\u0007\u001b[1G\u001b[0J \u001b[1G[\n",
      "  { _id: ObjectId(\"64d3d14a4652eacdd2a80770\"), a: \u001b[33m3\u001b[39m },\n",
      "  { _id: ObjectId(\"64d3d14a4652eacdd2a80771\"), a: \u001b[33m4\u001b[39m },\n",
      "  { _id: ObjectId(\"64d3d14a4652eacdd2a80772\"), a: \u001b[33m5\u001b[39m }\n",
      "]\n"
     ]
    }
   ],
   "source": [
    "findString = \"db.testCollection2.find({})\"\n",
    "\n",
    "!mongosh {mongoDB_connection_string} --quiet  --username {mongoDB_username} -p {mongoDB_password} \\\n",
    "--eval \"use testDb\" \\\n",
    "--eval \"{findString}\""
   ]
  },
  {
   "cell_type": "code",
   "execution_count": 115,
   "metadata": {},
   "outputs": [
    {
     "name": "stdout",
     "output_type": "stream",
     "text": [
      "db.testCollection2.deleteMany({a:{$gte:4}})\n",
      "\n",
      "\u001b]0;mongosh mongodb+srv://<credentials>@devcert.6ngvd.mongodb.net/\u0007\u001b[1G\u001b[0J \u001b[1G{ acknowledged: \u001b[33mtrue\u001b[39m, deletedCount: \u001b[33m2\u001b[39m }\n"
     ]
    }
   ],
   "source": [
    "# deleteMany\n",
    "deleteString = \"db.testCollection2.deleteMany({a:{\\$gte:4}})\"\n",
    "\n",
    "print(deleteString.replace(\"\\\\\", \"\"))\n",
    "print(\"\")\n",
    "\n",
    "!mongosh {mongoDB_connection_string} --quiet  --username {mongoDB_username} -p {mongoDB_password} \\\n",
    "--eval \"use testDb\" \\\n",
    "--eval \"{deleteString}\""
   ]
  },
  {
   "cell_type": "code",
   "execution_count": 116,
   "metadata": {},
   "outputs": [
    {
     "name": "stdout",
     "output_type": "stream",
     "text": [
      "\u001b]0;mongosh mongodb+srv://<credentials>@devcert.6ngvd.mongodb.net/\u0007\u001b[1G\u001b[0J \u001b[1G[ { _id: ObjectId(\"64d3d14a4652eacdd2a80770\"), a: \u001b[33m3\u001b[39m } ]\n"
     ]
    }
   ],
   "source": [
    "findString = \"db.testCollection2.find({})\"\n",
    "\n",
    "!mongosh {mongoDB_connection_string} --quiet  --username {mongoDB_username} -p {mongoDB_password} \\\n",
    "--eval \"use testDb\" \\\n",
    "--eval \"{findString}\""
   ]
  },
  {
   "cell_type": "markdown",
   "metadata": {},
   "source": [
    "## Updates\n",
    "\n",
    "Buckle up. Updates are the most nuanced of the queries that will show up on the developer certification exam.\n",
    "\n",
    "generally there are 3 main update commands:\n",
    "- `db.collection.updateOne({filter},{update},{options})`\n",
    "- `db.collection.updateMany({filter},{update},{options})`\n",
    "- `db.collection.findAndModify({query document})`\n",
    "\n",
    "I will focus on the first 2 for now  because they have similar syntax.\n",
    "\n",
    "- `{filter}` - same thing we've been talking about all class\n",
    "- `{update}` - either a replacement or a modification. We'll spend some time here\n",
    "- `{options}` - notably, `{upsert:true|false}` which we will also discuss\n",
    "\n",
    "### The `{update}` Object\n",
    "- if this is a document, it will act as a REPLACE OPERATION <-- this is actually legacy behavior and oftentimes will error out\n",
    "- similar to the filter operators, there are update operators that specify the type of modification desired.\n",
    "\n",
    "**Common Update Operators**\n",
    "- `$set` - adds / updates fields\n",
    "- `$unset` - removes fields\n",
    "- `$inc` - increments a field\n",
    "- `$pull / $push` - removes or inserts into an array\n",
    "\n",
    "Let's look at some examples:"
   ]
  },
  {
   "cell_type": "code",
   "execution_count": 119,
   "metadata": {},
   "outputs": [
    {
     "name": "stdout",
     "output_type": "stream",
     "text": [
      "\u001b]0;mongosh mongodb+srv://<credentials>@devcert.6ngvd.mongodb.net/\u0007\u001b[1G\u001b[0J \u001b[1G{\n",
      "  acknowledged: \u001b[33mtrue\u001b[39m,\n",
      "  insertedIds: {\n",
      "    \u001b[32m'0'\u001b[39m: ObjectId(\"64d3dc5c148ecd164655546c\"),\n",
      "    \u001b[32m'1'\u001b[39m: ObjectId(\"64d3dc5c148ecd164655546d\"),\n",
      "    \u001b[32m'2'\u001b[39m: ObjectId(\"64d3dc5c148ecd164655546e\"),\n",
      "    \u001b[32m'3'\u001b[39m: ObjectId(\"64d3dc5c148ecd164655546f\"),\n",
      "    \u001b[32m'4'\u001b[39m: ObjectId(\"64d3dc5c148ecd1646555470\")\n",
      "  }\n",
      "}\n"
     ]
    }
   ],
   "source": [
    "# inserting docs to Update\n",
    "deleteString = \"db.testCollection3.deleteMany({})\"\n",
    "insertString = \"db.testCollection3.insertMany([{a:1},{a:2},{a:3},{a:4},{a:5}])\"\n",
    "\n",
    "!mongosh {mongoDB_connection_string} --quiet  --username {mongoDB_username} -p {mongoDB_password} \\\n",
    "--eval \"use testDb\" \\\n",
    "--eval \"{deleteString}\" \\\n",
    "--eval \"{insertString}\""
   ]
  },
  {
   "cell_type": "code",
   "execution_count": 12,
   "metadata": {
    "scrolled": true
   },
   "outputs": [
    {
     "name": "stdout",
     "output_type": "stream",
     "text": [
      "db.testCollection3.updateOne({a:1},{$set:{b:3}})\n",
      "\n",
      "\u001b]0;mongosh mongodb+srv://<credentials>@devcert.6ngvd.mongodb.net/\u0007\u001b[1G\u001b[0J \u001b[1G{ _id: ObjectId(\"64d3dc5c148ecd164655546c\"), a: \u001b[33m1\u001b[39m, b: \u001b[33m3\u001b[39m }\n"
     ]
    }
   ],
   "source": [
    "updateString = \"db.testCollection3.updateOne({a:1},{\\$set:{b:3}})\"\n",
    "readString = \"db.testCollection3.findOne({a:1})\"\n",
    "\n",
    "print(updateString.replace(\"\\\\\", \"\"))\n",
    "print(\"\")\n",
    "\n",
    "!mongosh {mongoDB_connection_string} --quiet  --username {mongoDB_username} -p {mongoDB_password} \\\n",
    "--eval \"use testDb\" \\\n",
    "--eval \"{updateString}\" \\\n",
    "--eval \"{readString}\""
   ]
  },
  {
   "cell_type": "code",
   "execution_count": 13,
   "metadata": {},
   "outputs": [
    {
     "name": "stdout",
     "output_type": "stream",
     "text": [
      "db.testCollection3.updateOne({a:1,b:3},{$unset:{b:3}})\n",
      "\n",
      "\u001b]0;mongosh mongodb+srv://<credentials>@devcert.6ngvd.mongodb.net/\u0007\u001b[1G\u001b[0J \u001b[1G{ _id: ObjectId(\"64d3dc5c148ecd164655546c\"), a: \u001b[33m1\u001b[39m }\n"
     ]
    }
   ],
   "source": [
    "updateString = \"db.testCollection3.updateOne({a:1,b:3},{\\$unset:{b:3}})\"\n",
    "readString = \"db.testCollection3.findOne({a:1})\"\n",
    "\n",
    "print(updateString.replace(\"\\\\\", \"\"))\n",
    "print(\"\")\n",
    "\n",
    "!mongosh {mongoDB_connection_string} --quiet  --username {mongoDB_username} -p {mongoDB_password} \\\n",
    "--eval \"use testDb\" \\\n",
    "--eval \"{updateString}\" \\\n",
    "--eval \"{readString}\""
   ]
  },
  {
   "cell_type": "code",
   "execution_count": 15,
   "metadata": {},
   "outputs": [
    {
     "name": "stdout",
     "output_type": "stream",
     "text": [
      "db.testCollection3.updateOne({a:1},{$inc:{b:3}})\n",
      "\n",
      "\u001b]0;mongosh mongodb+srv://<credentials>@devcert.6ngvd.mongodb.net/\u0007\u001b[1G\u001b[0J \u001b[1G{ _id: ObjectId(\"64d3dc5c148ecd164655546c\"), a: \u001b[33m1\u001b[39m, b: \u001b[33m6\u001b[39m }\n"
     ]
    }
   ],
   "source": [
    "# Re run this multiple times and see what happens!\n",
    "\n",
    "updateString = \"db.testCollection3.updateOne({a:1},{\\$inc:{b:3}})\"\n",
    "readString = \"db.testCollection3.findOne({a:1})\"\n",
    "\n",
    "print(updateString.replace(\"\\\\\", \"\"))\n",
    "print(\"\")\n",
    "\n",
    "!mongosh {mongoDB_connection_string} --quiet  --username {mongoDB_username} -p {mongoDB_password} \\\n",
    "--eval \"use testDb\" \\\n",
    "--eval \"{updateString}\" \\\n",
    "--eval \"{readString}\""
   ]
  },
  {
   "cell_type": "code",
   "execution_count": 18,
   "metadata": {},
   "outputs": [
    {
     "name": "stdout",
     "output_type": "stream",
     "text": [
      "db.testCollection3.updateOne({a:1},{$push:{c:3}})\n",
      "\n",
      "\u001b]0;mongosh mongodb+srv://<credentials>@devcert.6ngvd.mongodb.net/\u0007\u001b[1G\u001b[0J \u001b[1G{\n",
      "  _id: ObjectId(\"64d3dc5c148ecd164655546c\"),\n",
      "  a: \u001b[33m1\u001b[39m,\n",
      "  b: \u001b[33m6\u001b[39m,\n",
      "  c: [ \u001b[33m3\u001b[39m, \u001b[33m3\u001b[39m, \u001b[33m3\u001b[39m ]\n",
      "}\n"
     ]
    }
   ],
   "source": [
    "# Re run this multiple times and see what happens!\n",
    "\n",
    "updateString = \"db.testCollection3.updateOne({a:1},{\\$push:{c:3}})\"\n",
    "readString = \"db.testCollection3.findOne({a:1})\"\n",
    "\n",
    "print(updateString.replace(\"\\\\\", \"\"))\n",
    "print(\"\")\n",
    "\n",
    "!mongosh {mongoDB_connection_string} --quiet  --username {mongoDB_username} -p {mongoDB_password} \\\n",
    "--eval \"use testDb\" \\\n",
    "--eval \"{updateString}\" \\\n",
    "--eval \"{readString}\""
   ]
  },
  {
   "cell_type": "code",
   "execution_count": 22,
   "metadata": {},
   "outputs": [
    {
     "name": "stdout",
     "output_type": "stream",
     "text": [
      "db.testCollection3.updateOne({a:1},{$push:{c:3,d:3},$inc:{b:3}})\n",
      "\n",
      "\u001b]0;mongosh mongodb+srv://<credentials>@devcert.6ngvd.mongodb.net/\u0007\u001b[1G\u001b[0J \u001b[1G{\n",
      "  _id: ObjectId(\"64d3dc5c148ecd164655546c\"),\n",
      "  a: \u001b[33m1\u001b[39m,\n",
      "  b: \u001b[33m18\u001b[39m,\n",
      "  c: [\n",
      "    \u001b[33m3\u001b[39m, \u001b[33m3\u001b[39m, \u001b[33m3\u001b[39m, \u001b[33m3\u001b[39m,\n",
      "    \u001b[33m3\u001b[39m, \u001b[33m3\u001b[39m, \u001b[33m3\u001b[39m\n",
      "  ],\n",
      "  d: [ \u001b[33m3\u001b[39m ]\n",
      "}\n"
     ]
    }
   ],
   "source": [
    "# Re run this multiple times and see what happens!\n",
    "\n",
    "updateString = \"db.testCollection3.updateOne({a:1},{\\$push:{c:3,d:3},\\$inc:{b:3}})\"\n",
    "readString = \"db.testCollection3.findOne({a:1})\"\n",
    "\n",
    "print(updateString.replace(\"\\\\\", \"\"))\n",
    "print(\"\")\n",
    "\n",
    "!mongosh {mongoDB_connection_string} --quiet  --username {mongoDB_username} -p {mongoDB_password} \\\n",
    "--eval \"use testDb\" \\\n",
    "--eval \"{updateString}\" \\\n",
    "--eval \"{readString}\""
   ]
  },
  {
   "cell_type": "markdown",
   "metadata": {},
   "source": [
    "### Thoughts and Reflections\n",
    "\n",
    "- you can put as many operators in a single update statement as you want. These are ATOMIC\n",
    "- you can put as many fields as you want to update in an operator\n",
    "\n",
    "### Upserting\n",
    "\n",
    "The normal behavior to experience on update is that if no documents are matched by the filter, nothing happens. However, if you set `{upsert:true}` you can insert if no documents match the filter"
   ]
  },
  {
   "cell_type": "code",
   "execution_count": 23,
   "metadata": {},
   "outputs": [
    {
     "name": "stdout",
     "output_type": "stream",
     "text": [
      "db.testCollection3.updateOne({a:6},{$set:{b:2}})\n",
      "\n",
      "\u001b]0;mongosh mongodb+srv://<credentials>@devcert.6ngvd.mongodb.net/\u0007\u001b[1G\u001b[0J \u001b[1G\u001b[1mnull\u001b[22m\n"
     ]
    }
   ],
   "source": [
    "updateString = \"db.testCollection3.updateOne({a:6},{\\$inc:{b:2}})\"\n",
    "readString = \"db.testCollection3.findOne({a:6})\"\n",
    "\n",
    "print(updateString.replace(\"\\\\\", \"\"))\n",
    "print(\"\")\n",
    "\n",
    "!mongosh {mongoDB_connection_string} --quiet  --username {mongoDB_username} -p {mongoDB_password} \\\n",
    "--eval \"use testDb\" \\\n",
    "--eval \"{updateString}\" \\\n",
    "--eval \"{readString}\""
   ]
  },
  {
   "cell_type": "code",
   "execution_count": 26,
   "metadata": {},
   "outputs": [
    {
     "name": "stdout",
     "output_type": "stream",
     "text": [
      "db.testCollection3.updateOne({a:6},{$inc:{b:2}},{upsert:true})\n",
      "\n",
      "\u001b]0;mongosh mongodb+srv://<credentials>@devcert.6ngvd.mongodb.net/\u0007\u001b[1G\u001b[0J \u001b[1G{ _id: ObjectId(\"64dbe41b15506878d86f3fb4\"), a: \u001b[33m6\u001b[39m, b: \u001b[33m6\u001b[39m }\n"
     ]
    }
   ],
   "source": [
    "# Re run this multiple times and see what happens!\n",
    "\n",
    "updateString = \"db.testCollection3.updateOne({a:6},{\\$inc:{b:2}},{upsert:true})\"\n",
    "readString = \"db.testCollection3.findOne({a:6})\"\n",
    "\n",
    "print(updateString.replace(\"\\\\\", \"\"))\n",
    "print(\"\")\n",
    "\n",
    "!mongosh {mongoDB_connection_string} --quiet  --username {mongoDB_username} -p {mongoDB_password} \\\n",
    "--eval \"use testDb\" \\\n",
    "--eval \"{updateString}\" \\\n",
    "--eval \"{readString}\""
   ]
  },
  {
   "cell_type": "code",
   "execution_count": null,
   "metadata": {},
   "outputs": [],
   "source": []
  }
 ],
 "metadata": {
  "kernelspec": {
   "display_name": "Python 3 (ipykernel)",
   "language": "python",
   "name": "python3"
  },
  "language_info": {
   "codemirror_mode": {
    "name": "ipython",
    "version": 3
   },
   "file_extension": ".py",
   "mimetype": "text/x-python",
   "name": "python",
   "nbconvert_exporter": "python",
   "pygments_lexer": "ipython3",
   "version": "3.12.2"
  }
 },
 "nbformat": 4,
 "nbformat_minor": 4
}
