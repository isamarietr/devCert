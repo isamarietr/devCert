{
 "cells": [
  {
   "cell_type": "markdown",
   "metadata": {},
   "source": [
    "<If there are any questions, reach out via isa.torres@mongodb.com>\n",
    "\n",
    "[Find Me on LinkedIn!](https://www.linkedin.com/in/isatorres/)\n",
    "\n",
    "# Welcome To Session 1 - Class Environment and Setup\n",
    "## Intro\n",
    "\n",
    "Jupyter is an interactive \"notebook\" environment where we can combine code, text, pictures, etc.\n",
    "\n",
    "It is based on a modified form of python. In order to give users a \"mongo shell experience,\" at the beginning of every notebook I will ask for you to put your variables in as python variables, and access them using shell scripts using the mongosh command line (which is the official mongo shell).\n",
    "\n",
    "For this first session, don't worry too much about the commands I am passing to the server, we will be focusing on queries soon.\n"
   ]
  },
  {
   "cell_type": "markdown",
   "metadata": {},
   "source": []
  },
  {
   "cell_type": "markdown",
   "metadata": {},
   "source": [
    "## MongoDB Architecture & Atlas\n",
    "For the sake of getting MongoDB certified, MongoDB Architecture is not a major focus, but it helps to have a basic understanding. Also, it's hard to develop anything on MongoDB if you don't have a database to use\n",
    "\n",
    "Luckily, there is an easy way to get access to a MongoDB database for free. That is by creating a free tier cluster in our managed service called Atlas. We will discuss logging in and creating an organization and project in the session, but generally it can be found at [here](https://cloud.mongodb.com) Once a cluster is created, whitelist the source IP address (either this host or your local host), create a database user, and you are ready to use MongoDB.\n",
    "\n",
    "Atlas also has some sample data sets that we will use in these sessions, so please upload that data set. \n",
    "\n",
    "## 1) Create a MongoDB Organization\n",
    "### 1.1)   Navigate to your account menu and select **Organizations**\n",
    "\n",
    "![Screenshot](./_images/setup/create_org.png)\n",
    "### 1.2)   Select **Create Organization**\n",
    "\n",
    "![Screenshot](./_images/setup/create_org_2.png)\n",
    "### 1.3) Enter the name of your organization, ie. **dev-cert**. Click Next.\n",
    "\n",
    "![Screenshot](./_images/setup/create_org_3.png)\n",
    "### 1.4) Uncheck **Require IP Access List for the Atlas Administration API**. Click Create Organization.\n",
    "\n",
    "![Screenshot](./_images/setup/create_org_4.png)\n",
    "## 2) Create a MongoDB Project\n",
    "### 2.1) Navigate to your organization and click on **New Project**\n",
    "\n",
    "![Screenshot](./_images/setup/create_project.png)\n",
    "### 2.2) Enter the name of your project, ie. **dev-cert-project**. Click Next.\n",
    "\n",
    "![Screenshot](./_images/setup/create_project_2.png)\n",
    "\n",
    "### 2.3) Keep the default values and click **Create Project**\n",
    "\n",
    "![Screenshot](./_images/setup/create_project_3.png)\n",
    "## 3) Create a MongoDB Cluster\n",
    "### 3.1) Navigate to your project and click **Create Deployment**\n",
    "\n",
    "![Screenshot](./_images/setup/create_cluster.png)\n",
    "\n",
    "### 3.2) Select M0, enter the name of your cluster (**devCert**). Click  **Create Deployment**\n",
    "\n",
    "![Screenshot](./_images/setup/create_cluster_2.png)\n",
    "### 3.3) Enter username and password, click on **Create Database User**. \n",
    "\n",
    "![Screenshot](./_images/setup/create_cluster_3.png)\n",
    "### 3.4) Click on **Choose a connection method**.  \n",
    "\n",
    "![Screenshot](./_images/setup/create_cluster_4.png)\n",
    "### 3.5) Select **Shell** and get the connection string for your cluster\n",
    "\n",
    "![Screenshot](./_images/setup/create_cluster_5.png)\n",
    "### 3.6) **Congratulations!** You now have a MongoDB cluster with sample data! \n",
    "\n",
    "![Screenshot](./_images/setup/create_cluster_6.png)"
   ]
  },
  {
   "cell_type": "code",
   "execution_count": null,
   "metadata": {},
   "outputs": [],
   "source": []
  }
 ],
 "metadata": {
  "kernelspec": {
   "display_name": "Python 3 (ipykernel)",
   "language": "python",
   "name": "python3"
  },
  "language_info": {
   "codemirror_mode": {
    "name": "ipython",
    "version": 3
   },
   "file_extension": ".py",
   "mimetype": "text/x-python",
   "name": "python",
   "nbconvert_exporter": "python",
   "pygments_lexer": "ipython3",
   "version": "3.12.2"
  }
 },
 "nbformat": 4,
 "nbformat_minor": 4
}
